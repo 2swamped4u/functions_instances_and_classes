{
 "cells": [
  {
   "cell_type": "markdown",
   "id": "e0ba27a9-4f2a-4ea4-aab5-7e1479c50664",
   "metadata": {},
   "source": [
    "## inbuilt objects"
   ]
  },
  {
   "cell_type": "markdown",
   "id": "11719342-a1e5-44f8-8896-07c55fb058d7",
   "metadata": {},
   "source": [
    "Python has a number of inbuilt objects, many of which you have likely encountered before. "
   ]
  },
  {
   "cell_type": "code",
   "execution_count": 1,
   "id": "abeb2fd9-5283-4b3b-b086-e29feadb9818",
   "metadata": {},
   "outputs": [],
   "source": [
    "import builtins"
   ]
  },
  {
   "cell_type": "markdown",
   "id": "e1e311b2-9fae-4199-a5a5-11d8b820ffec",
   "metadata": {},
   "source": [
    "If we type in builtins followed by a dot and then tab we will see a list of available inbuilt objects. We see each object is color-coded and marked as a category: \n",
    "* orange (i for instance)\n",
    "* blue (f for function)\n",
    "* green (c for class)"
   ]
  },
  {
   "cell_type": "code",
   "execution_count": null,
   "id": "8b897c74-c444-4a97-addd-994c5cd1b914",
   "metadata": {},
   "outputs": [],
   "source": [
    "builtins."
   ]
  },
  {
   "cell_type": "markdown",
   "id": "fb946e4a-723a-46de-93e5-1c0ee3f44b32",
   "metadata": {},
   "source": [
    "|i|f|c|\n",
    "|:-:|:-:|:-:|\n",
    "|copyright|abs|bool|\n",
    "|credits|all|bytearray|\n",
    "|Ellipsis|any|bytes|\n",
    "|exit|ascii|classmethod|\n",
    "|False|bin|complex|\n",
    "|help|breakpoint|enumerate|\n",
    "|license|callable|filter|\n",
    "|None|chr|float|\n",
    "|NotImplemented|compile|frozenset|\n",
    "|quit|delattr|GeneratorExit|\n",
    "|True|dir|int|\n",
    "||display|list|\n",
    "||divmod|map|\n",
    "||eval|memoryview|\n",
    "||exec|object|\n",
    "||format|range|\n",
    "||getattr|reversed|\n",
    "||globals|set|\n",
    "||hasattr|slice|\n",
    "||hash|staticmethod|\n",
    "||hex|str|\n",
    "||id|super|\n",
    "||input|tuple|\n",
    "||isinstance|type|\n",
    "||issubclass|zip|\n",
    "||iter||\n",
    "||len||\n",
    "||locals||\n",
    "||max||\n",
    "||min||\n",
    "||next||\n",
    "||oct||\n",
    "||open||\n",
    "||ord||\n",
    "||pow||\n",
    "||print||\n",
    "||repr||\n",
    "||round||\n",
    "||setattr||\n",
    "||sorted||\n",
    "||sum||\n",
    "||vars||\n",
    "||||\n"
   ]
  },
  {
   "cell_type": "markdown",
   "id": "94e91b6f-4255-4bf5-9eac-0a26902f90c4",
   "metadata": {},
   "source": [
    "## using inbuilt instances"
   ]
  },
  {
   "cell_type": "markdown",
   "id": "511bb3f0-3cd9-41bd-b34d-c85dd9267f4f",
   "metadata": {},
   "source": [
    "Let's first examine instances. These are objects, under the hood instances of classes have a data model blueprint defined by their class. The instances ```True``` and ```False``` are for example instances of the ```bool``` class."
   ]
  },
  {
   "cell_type": "code",
   "execution_count": 2,
   "id": "3fd63cba-6dbd-458c-93eb-d9cd5ebb1544",
   "metadata": {},
   "outputs": [
    {
     "data": {
      "text/plain": [
       "True"
      ]
     },
     "execution_count": 2,
     "metadata": {},
     "output_type": "execute_result"
    }
   ],
   "source": [
    "True"
   ]
  },
  {
   "cell_type": "code",
   "execution_count": 3,
   "id": "7f029a02-43a9-4d9e-a1b8-84127a26d2e6",
   "metadata": {},
   "outputs": [
    {
     "data": {
      "text/plain": [
       "False"
      ]
     },
     "execution_count": 3,
     "metadata": {},
     "output_type": "execute_result"
    }
   ],
   "source": [
    "False"
   ]
  },
  {
   "cell_type": "markdown",
   "id": "f086144f-2cf6-407c-9e31-515c082197b0",
   "metadata": {},
   "source": [
    "The ```bool``` class will contain a method which instructs what the ```+``` operator does for these instances."
   ]
  },
  {
   "cell_type": "code",
   "execution_count": 4,
   "id": "35987b42-9a0e-4ff4-ba06-81d119e28107",
   "metadata": {},
   "outputs": [
    {
     "data": {
      "text/plain": [
       "1"
      ]
     },
     "execution_count": 4,
     "metadata": {},
     "output_type": "execute_result"
    }
   ],
   "source": [
    "True + False"
   ]
  },
  {
   "cell_type": "markdown",
   "id": "7033348d-ca70-4308-9ca0-fa84d52ef67b",
   "metadata": {},
   "source": [
    "```0```,```1```,```2```,```3```,```4```,```5```,```6```,```7```,```8```,```9```,... are instances of the ```int``` class and the ```int``` class also instructs what the ```+``` operator does for these instances."
   ]
  },
  {
   "cell_type": "code",
   "execution_count": 5,
   "id": "39f86245-0ec0-4dea-b0e3-ae42fd397095",
   "metadata": {},
   "outputs": [
    {
     "data": {
      "text/plain": [
       "3"
      ]
     },
     "execution_count": 5,
     "metadata": {},
     "output_type": "execute_result"
    }
   ],
   "source": [
    "1 + 2"
   ]
  },
  {
   "cell_type": "markdown",
   "id": "112139b6-9177-4452-960c-1cff7cca8f34",
   "metadata": {},
   "source": [
    "```\"a\"```, ```\"b\"```, ```\"c\"```, ... are instances of the ```str``` class and the ```str``` class instructs what the ```+``` operator does for these instances."
   ]
  },
  {
   "cell_type": "code",
   "execution_count": 6,
   "id": "c8d03e28-eefa-4f8d-97c0-786dd8795d81",
   "metadata": {},
   "outputs": [
    {
     "data": {
      "text/plain": [
       "'ab'"
      ]
     },
     "execution_count": 6,
     "metadata": {},
     "output_type": "execute_result"
    }
   ],
   "source": [
    "\"a\" + \"b\""
   ]
  },
  {
   "cell_type": "markdown",
   "id": "ebb7af49-a3ee-4fa9-a0ae-e41f9caccae2",
   "metadata": {},
   "source": [
    "Note the different behaviour between these three classes with the ```+``` operator. In the ```bool``` and ```int``` classes, numeric addition is performed, while in the case of the ```str``` class, ```str``` concatenation is instead performed."
   ]
  },
  {
   "cell_type": "markdown",
   "id": "18cfd41f-f309-4d68-8400-c10f6cac700a",
   "metadata": {},
   "source": [
    "## using inbuilt functions"
   ]
  },
  {
   "cell_type": "markdown",
   "id": "9db7e9b7-2cb2-434e-ae73-d73b38ea870a",
   "metadata": {},
   "source": [
    "Before discussing classes in any more detail, we need to understand what functions are. functions are also objects. When we refer to a function like an instance, we will only be informed that the function being used is a function."
   ]
  },
  {
   "cell_type": "code",
   "execution_count": 7,
   "id": "d53dd552-1f82-43fa-827a-fd604619625e",
   "metadata": {},
   "outputs": [
    {
     "data": {
      "text/plain": [
       "<function chr(i, /)>"
      ]
     },
     "execution_count": 7,
     "metadata": {},
     "output_type": "execute_result"
    }
   ],
   "source": [
    "chr"
   ]
  },
  {
   "cell_type": "markdown",
   "id": "7ea92a86-3ef9-46c3-8723-70b657cd0ebd",
   "metadata": {},
   "source": [
    "We need to call a function with parenthesis. The parenthesis are used to enclose input arguments. To find out more details about the function and the functions input arguments we can either type in the function name followed by a tab and shift which will open up part of the docstring as a tool tip, or alternatively we can type ```?``` before the function name to view the full docstring output within a cell."
   ]
  },
  {
   "cell_type": "code",
   "execution_count": 8,
   "id": "15476fb7-dca9-48c7-a82c-acc535ee9076",
   "metadata": {},
   "outputs": [
    {
     "data": {
      "text/plain": [
       "\u001b[1;31mSignature:\u001b[0m  \u001b[0mchr\u001b[0m\u001b[1;33m(\u001b[0m\u001b[0mi\u001b[0m\u001b[1;33m,\u001b[0m \u001b[1;33m/\u001b[0m\u001b[1;33m)\u001b[0m\u001b[1;33m\u001b[0m\u001b[1;33m\u001b[0m\u001b[0m\n",
       "\u001b[1;31mDocstring:\u001b[0m Return a Unicode string of one character with ordinal i; 0 <= i <= 0x10ffff.\n",
       "\u001b[1;31mType:\u001b[0m      builtin_function_or_method\n"
      ]
     },
     "metadata": {},
     "output_type": "display_data"
    }
   ],
   "source": [
    "? chr"
   ]
  },
  {
   "cell_type": "markdown",
   "id": "b83ff0aa-6cce-413c-ba46-6df66da67b0f",
   "metadata": {},
   "source": [
    "Unicode maps each possible character to a numeric integer. In the case of the function ```chr``` we see a single positional input argument ```i``` which must be of the type ```int```. This function will return the character corresponding to the numeric ```int``` in the form of a ```str```. ```int``` ```37``` refers to the single character ```str``` ```\"%\"``` for example."
   ]
  },
  {
   "cell_type": "code",
   "execution_count": 9,
   "id": "f7df3ff4-3e5f-4751-9747-b74eca58eb89",
   "metadata": {},
   "outputs": [
    {
     "data": {
      "text/plain": [
       "'%'"
      ]
     },
     "execution_count": 9,
     "metadata": {},
     "output_type": "execute_result"
    }
   ],
   "source": [
    "chr(37)"
   ]
  },
  {
   "cell_type": "markdown",
   "id": "2d50b529-c519-4be3-8f6b-d6aafebc2bdb",
   "metadata": {},
   "source": [
    "Note if we type in the incorrect number of positional input arguments, or use the wrong datatype for each position input argument in a function we will get a ```TypeError```."
   ]
  },
  {
   "cell_type": "code",
   "execution_count": 10,
   "id": "74dc317c-8cb3-4bc4-85d7-ad6421334416",
   "metadata": {},
   "outputs": [
    {
     "ename": "TypeError",
     "evalue": "chr() takes exactly one argument (0 given)",
     "output_type": "error",
     "traceback": [
      "\u001b[1;31m---------------------------------------------------------------------------\u001b[0m",
      "\u001b[1;31mTypeError\u001b[0m                                 Traceback (most recent call last)",
      "\u001b[1;32m<ipython-input-10-f8697962e2bf>\u001b[0m in \u001b[0;36m<module>\u001b[1;34m\u001b[0m\n\u001b[1;32m----> 1\u001b[1;33m \u001b[0mchr\u001b[0m\u001b[1;33m(\u001b[0m\u001b[1;33m)\u001b[0m\u001b[1;33m\u001b[0m\u001b[1;33m\u001b[0m\u001b[0m\n\u001b[0m",
      "\u001b[1;31mTypeError\u001b[0m: chr() takes exactly one argument (0 given)"
     ]
    }
   ],
   "source": [
    "chr()"
   ]
  },
  {
   "cell_type": "code",
   "execution_count": 11,
   "id": "1e90163f-4dcb-4662-a244-57c101b1312a",
   "metadata": {},
   "outputs": [
    {
     "ename": "TypeError",
     "evalue": "an integer is required (got type str)",
     "output_type": "error",
     "traceback": [
      "\u001b[1;31m---------------------------------------------------------------------------\u001b[0m",
      "\u001b[1;31mTypeError\u001b[0m                                 Traceback (most recent call last)",
      "\u001b[1;32m<ipython-input-11-a5e86de87f13>\u001b[0m in \u001b[0;36m<module>\u001b[1;34m\u001b[0m\n\u001b[1;32m----> 1\u001b[1;33m \u001b[0mchr\u001b[0m\u001b[1;33m(\u001b[0m\u001b[1;34m\"%\"\u001b[0m\u001b[1;33m)\u001b[0m\u001b[1;33m\u001b[0m\u001b[1;33m\u001b[0m\u001b[0m\n\u001b[0m",
      "\u001b[1;31mTypeError\u001b[0m: an integer is required (got type str)"
     ]
    }
   ],
   "source": [
    "chr(\"%\")"
   ]
  },
  {
   "cell_type": "markdown",
   "id": "3b73ae09-5f44-458c-aa2e-87aedd21c8f2",
   "metadata": {},
   "source": [
    "The ```ord``` function does the reverse conversion of the ```\"chr\"``` function."
   ]
  },
  {
   "cell_type": "code",
   "execution_count": 12,
   "id": "fc34b33b-37bd-4193-9807-3f82ca30bdbf",
   "metadata": {},
   "outputs": [
    {
     "data": {
      "text/plain": [
       "\u001b[1;31mSignature:\u001b[0m  \u001b[0mord\u001b[0m\u001b[1;33m(\u001b[0m\u001b[0mc\u001b[0m\u001b[1;33m,\u001b[0m \u001b[1;33m/\u001b[0m\u001b[1;33m)\u001b[0m\u001b[1;33m\u001b[0m\u001b[1;33m\u001b[0m\u001b[0m\n",
       "\u001b[1;31mDocstring:\u001b[0m Return the Unicode code point for a one-character string.\n",
       "\u001b[1;31mType:\u001b[0m      builtin_function_or_method\n"
      ]
     },
     "metadata": {},
     "output_type": "display_data"
    }
   ],
   "source": [
    "? ord"
   ]
  },
  {
   "cell_type": "markdown",
   "id": "245d681d-57f3-4002-8373-6494f0b05950",
   "metadata": {},
   "source": [
    "The function ```ord``` input argument expects a single positional input argument the ```str``` ```c``` which it expects to be a single character ```str```; we can set it to ```\"%\"``` which returns the ```int``` ```37``` as expected."
   ]
  },
  {
   "cell_type": "code",
   "execution_count": 13,
   "id": "b4d0b606-ef19-4907-85b9-8572cf89bcd8",
   "metadata": {},
   "outputs": [
    {
     "data": {
      "text/plain": [
       "37"
      ]
     },
     "execution_count": 13,
     "metadata": {},
     "output_type": "execute_result"
    }
   ],
   "source": [
    "ord(\"%\")"
   ]
  },
  {
   "cell_type": "code",
   "execution_count": 14,
   "id": "2e172f60-2926-47ff-9ed8-8f1e7ea2e486",
   "metadata": {},
   "outputs": [
    {
     "ename": "TypeError",
     "evalue": "ord() takes exactly one argument (0 given)",
     "output_type": "error",
     "traceback": [
      "\u001b[1;31m---------------------------------------------------------------------------\u001b[0m",
      "\u001b[1;31mTypeError\u001b[0m                                 Traceback (most recent call last)",
      "\u001b[1;32m<ipython-input-14-321977ffe3d0>\u001b[0m in \u001b[0;36m<module>\u001b[1;34m\u001b[0m\n\u001b[1;32m----> 1\u001b[1;33m \u001b[0mord\u001b[0m\u001b[1;33m(\u001b[0m\u001b[1;33m)\u001b[0m\u001b[1;33m\u001b[0m\u001b[1;33m\u001b[0m\u001b[0m\n\u001b[0m",
      "\u001b[1;31mTypeError\u001b[0m: ord() takes exactly one argument (0 given)"
     ]
    }
   ],
   "source": [
    "ord()"
   ]
  },
  {
   "cell_type": "code",
   "execution_count": 15,
   "id": "61178bba-cba2-4e40-bd85-20de8cb682ab",
   "metadata": {},
   "outputs": [
    {
     "ename": "TypeError",
     "evalue": "ord() expected a character, but string of length 2 found",
     "output_type": "error",
     "traceback": [
      "\u001b[1;31m---------------------------------------------------------------------------\u001b[0m",
      "\u001b[1;31mTypeError\u001b[0m                                 Traceback (most recent call last)",
      "\u001b[1;32m<ipython-input-15-fe91e93fab17>\u001b[0m in \u001b[0;36m<module>\u001b[1;34m\u001b[0m\n\u001b[1;32m----> 1\u001b[1;33m \u001b[0mord\u001b[0m\u001b[1;33m(\u001b[0m\u001b[1;34m\"%%\"\u001b[0m\u001b[1;33m)\u001b[0m\u001b[1;33m\u001b[0m\u001b[1;33m\u001b[0m\u001b[0m\n\u001b[0m",
      "\u001b[1;31mTypeError\u001b[0m: ord() expected a character, but string of length 2 found"
     ]
    }
   ],
   "source": [
    "ord(\"%%\")"
   ]
  },
  {
   "cell_type": "code",
   "execution_count": 16,
   "id": "ead07a62-a383-4fbe-9996-3fda88ae8df0",
   "metadata": {},
   "outputs": [
    {
     "ename": "TypeError",
     "evalue": "ord() expected string of length 1, but int found",
     "output_type": "error",
     "traceback": [
      "\u001b[1;31m---------------------------------------------------------------------------\u001b[0m",
      "\u001b[1;31mTypeError\u001b[0m                                 Traceback (most recent call last)",
      "\u001b[1;32m<ipython-input-16-d8d036eaaaa9>\u001b[0m in \u001b[0;36m<module>\u001b[1;34m\u001b[0m\n\u001b[1;32m----> 1\u001b[1;33m \u001b[0mord\u001b[0m\u001b[1;33m(\u001b[0m\u001b[1;36m37\u001b[0m\u001b[1;33m)\u001b[0m\u001b[1;33m\u001b[0m\u001b[1;33m\u001b[0m\u001b[0m\n\u001b[0m",
      "\u001b[1;31mTypeError\u001b[0m: ord() expected string of length 1, but int found"
     ]
    }
   ],
   "source": [
    "ord(37)"
   ]
  },
  {
   "cell_type": "markdown",
   "id": "e85ad1b2-10b2-4b23-8263-5b7c899845a9",
   "metadata": {},
   "source": [
    "The function round can be used to round a ```float``` to a specified number of decimal places. Examining the docstring we see one positional input argument ```number``` which is designed to be of the data type ```float``` and one keyword input argument ```ndigits=None```. These input arguments are seperated by a comma ```,``` delimiter."
   ]
  },
  {
   "cell_type": "code",
   "execution_count": 17,
   "id": "c4bbf547-c25f-48e0-8174-189a2d991f1e",
   "metadata": {},
   "outputs": [
    {
     "data": {
      "text/plain": [
       "\u001b[1;31mSignature:\u001b[0m  \u001b[0mround\u001b[0m\u001b[1;33m(\u001b[0m\u001b[0mnumber\u001b[0m\u001b[1;33m,\u001b[0m \u001b[0mndigits\u001b[0m\u001b[1;33m=\u001b[0m\u001b[1;32mNone\u001b[0m\u001b[1;33m)\u001b[0m\u001b[1;33m\u001b[0m\u001b[1;33m\u001b[0m\u001b[0m\n",
       "\u001b[1;31mDocstring:\u001b[0m\n",
       "Round a number to a given precision in decimal digits.\n",
       "\n",
       "The return value is an integer if ndigits is omitted or None.  Otherwise\n",
       "the return value has the same type as the number.  ndigits may be negative.\n",
       "\u001b[1;31mType:\u001b[0m      builtin_function_or_method\n"
      ]
     },
     "metadata": {},
     "output_type": "display_data"
    }
   ],
   "source": [
    "? round"
   ]
  },
  {
   "cell_type": "markdown",
   "id": "3ee045bd-0a28-4130-a5e8-a56620bbdd59",
   "metadata": {},
   "source": [
    "We can call the function without the keyword input argument specified. When we do so it will take on its default value which is ```\"None\"``` i.e. no decimal places and return the ```int``` ```3```."
   ]
  },
  {
   "cell_type": "code",
   "execution_count": 18,
   "id": "f07335fe-a289-4b52-8125-70baf2d14ebb",
   "metadata": {},
   "outputs": [
    {
     "data": {
      "text/plain": [
       "3"
      ]
     },
     "execution_count": 18,
     "metadata": {},
     "output_type": "execute_result"
    }
   ],
   "source": [
    "round(3.14)"
   ]
  },
  {
   "cell_type": "markdown",
   "id": "b4b3b5c5-0f6b-4848-b643-a3326773bfda",
   "metadata": {},
   "source": [
    "Alternatively to round to 1 decimal place, we can explicitly provide the keyword input argument ```ndigits``` and assign it to ```1``` which will return the ```float``` ```3.1``` as expected."
   ]
  },
  {
   "cell_type": "code",
   "execution_count": 19,
   "id": "9f32a1bc-6c64-4724-adc8-2687e4ba7acd",
   "metadata": {},
   "outputs": [
    {
     "data": {
      "text/plain": [
       "3.1"
      ]
     },
     "execution_count": 19,
     "metadata": {},
     "output_type": "execute_result"
    }
   ],
   "source": [
    "round(3.14, ndigits=1)"
   ]
  },
  {
   "cell_type": "markdown",
   "id": "6b963275-ddcc-4177-931c-ad9a9dd7f25f",
   "metadata": {},
   "source": [
    "Note that we have to always specify the positional input arguments in order. If we are going to specify all the input arguments (positional and keyword), we can treat the keyword arguments as positional arguments. When we only want to specify a subset of keyword input arguments, we must explictly use the name of the keyword input argument and the assignment operator to the value to prevent confusion."
   ]
  },
  {
   "cell_type": "code",
   "execution_count": 20,
   "id": "17a06567-d457-4204-9834-53c1bd24a664",
   "metadata": {},
   "outputs": [
    {
     "data": {
      "text/plain": [
       "3.1"
      ]
     },
     "execution_count": 20,
     "metadata": {},
     "output_type": "execute_result"
    }
   ],
   "source": [
    "round(3.14, 1)"
   ]
  },
  {
   "cell_type": "markdown",
   "id": "708709ff-a2ab-462d-b069-e86039d60be2",
   "metadata": {},
   "source": [
    "The ```pow``` function is used to exponentiate a base using an exponent. We see that it has 2 positional input arguments, the ```base``` and ```exp``` and one optional keyword input argument ```mod``` which has a default value of ```None```."
   ]
  },
  {
   "cell_type": "code",
   "execution_count": 21,
   "id": "86a926d0-2abd-4b11-878d-751ce2ade4ce",
   "metadata": {},
   "outputs": [
    {
     "data": {
      "text/plain": [
       "\u001b[1;31mSignature:\u001b[0m  \u001b[0mpow\u001b[0m\u001b[1;33m(\u001b[0m\u001b[0mbase\u001b[0m\u001b[1;33m,\u001b[0m \u001b[0mexp\u001b[0m\u001b[1;33m,\u001b[0m \u001b[0mmod\u001b[0m\u001b[1;33m=\u001b[0m\u001b[1;32mNone\u001b[0m\u001b[1;33m)\u001b[0m\u001b[1;33m\u001b[0m\u001b[1;33m\u001b[0m\u001b[0m\n",
       "\u001b[1;31mDocstring:\u001b[0m\n",
       "Equivalent to base**exp with 2 arguments or base**exp % mod with 3 arguments\n",
       "\n",
       "Some types, such as ints, are able to use a more efficient algorithm when\n",
       "invoked using the three argument form.\n",
       "\u001b[1;31mType:\u001b[0m      builtin_function_or_method\n"
      ]
     },
     "metadata": {},
     "output_type": "display_data"
    }
   ],
   "source": [
    "? pow"
   ]
  },
  {
   "cell_type": "markdown",
   "id": "05d543ea-84bf-45c8-bcbe-852b48f04e38",
   "metadata": {},
   "source": [
    "Supposing we want 2 to the power of 3, we can use:"
   ]
  },
  {
   "cell_type": "code",
   "execution_count": 22,
   "id": "9995d341-d04c-4735-9835-5f932b2a9bb7",
   "metadata": {},
   "outputs": [
    {
     "data": {
      "text/plain": [
       "8"
      ]
     },
     "execution_count": 22,
     "metadata": {},
     "output_type": "execute_result"
    }
   ],
   "source": [
    "pow(2, 3)"
   ]
  },
  {
   "cell_type": "markdown",
   "id": "525e0433-c90c-4874-b750-86125f8a15be",
   "metadata": {},
   "source": [
    "This gives the same result as:"
   ]
  },
  {
   "cell_type": "code",
   "execution_count": 23,
   "id": "daa4f31b-5ac2-44e5-bcc8-4de412059704",
   "metadata": {},
   "outputs": [
    {
     "data": {
      "text/plain": [
       "8"
      ]
     },
     "execution_count": 23,
     "metadata": {},
     "output_type": "execute_result"
    }
   ],
   "source": [
    "2 ** 3"
   ]
  },
  {
   "cell_type": "markdown",
   "id": "3e75b6bb-ce82-41d4-8b14-4fd01ebcd4de",
   "metadata": {},
   "source": [
    "Now supposing we want to calculate the modulus of this number and 3. The modulus is the number of times a number fully divides into a value returning an ```int```."
   ]
  },
  {
   "cell_type": "code",
   "execution_count": 24,
   "id": "fad319d8-7181-4072-bc99-cb9115ebc54f",
   "metadata": {},
   "outputs": [
    {
     "data": {
      "text/plain": [
       "2"
      ]
     },
     "execution_count": 24,
     "metadata": {},
     "output_type": "execute_result"
    }
   ],
   "source": [
    "pow(2, 3, mod=3)"
   ]
  },
  {
   "cell_type": "markdown",
   "id": "93446f79-ba50-41a0-af7b-fd67a889f4ee",
   "metadata": {},
   "source": [
    "This is equivalent to using the exponentiation operator ```*``` and then modulus operator ```%``` but the ```pow``` function has a more efficient algorithm for calculating this value in a single step. "
   ]
  },
  {
   "cell_type": "code",
   "execution_count": 25,
   "id": "a005a38c-fbf5-4773-8c8b-0d7781d7aa84",
   "metadata": {},
   "outputs": [
    {
     "data": {
      "text/plain": [
       "2"
      ]
     },
     "execution_count": 25,
     "metadata": {},
     "output_type": "execute_result"
    }
   ],
   "source": [
    "2 ** 3 % 3"
   ]
  },
  {
   "cell_type": "markdown",
   "id": "cf4b6a97-243e-457c-bdb0-32c8a6a357be",
   "metadata": {},
   "source": [
    "## creating a custom function"
   ]
  },
  {
   "cell_type": "markdown",
   "id": "e34ca474-9048-4c0e-8608-8f5568d4af79",
   "metadata": {},
   "source": [
    "To create a custom function we must use the format:"
   ]
  },
  {
   "cell_type": "code",
   "execution_count": null,
   "id": "c1cd8854-4bca-4ec1-b1ac-54bdf7455da5",
   "metadata": {},
   "outputs": [],
   "source": [
    "def function_name(arg0, arg1, kwarg2=default2, kwarg3=default3, ...):\n",
    "    \"\"\"\n",
    "    Docstring for the function.\n",
    "    \"\"\"\n",
    "    code belonging to function ...\n",
    "    return output\n",
    "\n",
    "\n",
    "code not belonging to the function ..."
   ]
  },
  {
   "cell_type": "markdown",
   "id": "f332c2d6-47d2-4287-b2a2-e009e2a7dc16",
   "metadata": {},
   "source": [
    "The function name, ```function_name``` in this case is typically ```snake_case``` i.e. lower case and each space in the name is replaced by an underscore. Numbers can be added to the function name but the function_name cannot begin with a number. \n",
    "\n",
    "Parenthesis ```( )``` are used to enclose the input arguments, with a comma ```,``` used as a delimiter between the input arguments. Keyword input arguments are listed after positional input arguments and assigned a default value. Note it is possible to create a function without any input arguments.\n",
    "\n",
    "After the parenthesis a colon ```:``` is used which denotes the beginning of a Python code block. Anything belonging to the code block is indented by four spaces. \n",
    "\n",
    "Above the code the ```\"\"\"``` to ```\"\"\"``` allows a multiple line comment which can be used to make a docstring. Note the docstring is indented in line with the code.\n",
    "\n",
    "The code in the code block ends when the indentation ends. It is good practice to end the function with 2 blank lines so it is obvious that this is the end of the definition of the function.\n",
    "\n",
    "Functions can optionally have a return statement which can be used to return an output when the function is called and assigned to a variable."
   ]
  },
  {
   "cell_type": "markdown",
   "id": "053fca2a-d038-4d72-839c-49f9ad7fb74e",
   "metadata": {},
   "source": [
    "Let's define a function greeting, this function will have no input arguments and no output value to return. All it will do is print the ```str``` ```\"hello\"``` to the output of a cell."
   ]
  },
  {
   "cell_type": "code",
   "execution_count": 26,
   "id": "3e1807a6-4e5b-418c-92c4-685d77d5d4ff",
   "metadata": {},
   "outputs": [],
   "source": [
    "def greeting():\n",
    "    \"\"\"\n",
    "    This function will print the str hello.\n",
    "    \"\"\"\n",
    "    print(\"hello\")\n",
    "    \n",
    "    "
   ]
  },
  {
   "cell_type": "markdown",
   "id": "5180a5c3-c234-4504-bf8e-b0105fdc0601",
   "metadata": {},
   "source": [
    "When this function is called without parenthesis, we will just be informed that it is a function."
   ]
  },
  {
   "cell_type": "code",
   "execution_count": 27,
   "id": "0ecb88fb-63ab-4522-8bc1-2c90d6ed311d",
   "metadata": {},
   "outputs": [
    {
     "data": {
      "text/plain": [
       "<function __main__.greeting()>"
      ]
     },
     "execution_count": 27,
     "metadata": {},
     "output_type": "execute_result"
    }
   ],
   "source": [
    "greeting"
   ]
  },
  {
   "cell_type": "markdown",
   "id": "a52d9adc-2295-4861-9dd5-38ebdd864889",
   "metadata": {},
   "source": [
    "To view the functions document string as a tooltip we can type in the functions name followed by a shift and tab. Alternatively we can output the docstring to a cell by use of the ```?```."
   ]
  },
  {
   "cell_type": "code",
   "execution_count": 28,
   "id": "78585cdd-c196-40e6-ba94-d6be7233a8ff",
   "metadata": {},
   "outputs": [
    {
     "data": {
      "text/plain": [
       "\u001b[1;31mSignature:\u001b[0m  \u001b[0mgreeting\u001b[0m\u001b[1;33m(\u001b[0m\u001b[1;33m)\u001b[0m\u001b[1;33m\u001b[0m\u001b[1;33m\u001b[0m\u001b[0m\n",
       "\u001b[1;31mDocstring:\u001b[0m This function will print the str hello.\n",
       "\u001b[1;31mFile:\u001b[0m      c:\\users\\phili\\documents\\<ipython-input-26-6fe8c53cb452>\n",
       "\u001b[1;31mType:\u001b[0m      function\n"
      ]
     },
     "metadata": {},
     "output_type": "display_data"
    }
   ],
   "source": [
    "? greeting"
   ]
  },
  {
   "cell_type": "markdown",
   "id": "8488b011-18ce-42ac-99fe-224ab3f1d2b7",
   "metadata": {},
   "source": [
    "We can call this function using parenthesis which will print the greeting ```\"hello\"```."
   ]
  },
  {
   "cell_type": "code",
   "execution_count": 29,
   "id": "ce3f8917-0aba-48cb-91ad-6b8a2854a855",
   "metadata": {},
   "outputs": [
    {
     "name": "stdout",
     "output_type": "stream",
     "text": [
      "hello\n"
     ]
    }
   ],
   "source": [
    "greeting()"
   ]
  },
  {
   "cell_type": "markdown",
   "id": "31c1c337-d5e9-429c-b956-6ca5720b9daa",
   "metadata": {},
   "source": [
    "Note that using a ```print``` statement in a function is not the same as having a function with a ```return``` output. We can see this by calling the function and assigning it to a variable ```x```."
   ]
  },
  {
   "cell_type": "code",
   "execution_count": 30,
   "id": "b6a358ea-fdd4-4fa0-afa8-78947b6a8df0",
   "metadata": {},
   "outputs": [
    {
     "name": "stdout",
     "output_type": "stream",
     "text": [
      "hello\n"
     ]
    }
   ],
   "source": [
    "x = greeting()"
   ]
  },
  {
   "cell_type": "markdown",
   "id": "b95309e2-1e94-4d89-822e-bd58ac894cca",
   "metadata": {},
   "source": [
    "If we attempt to look at the output of ```x```, we see nothing returned."
   ]
  },
  {
   "cell_type": "code",
   "execution_count": 31,
   "id": "2035b83c-9c90-4267-80da-147869675cb0",
   "metadata": {},
   "outputs": [],
   "source": [
    "x"
   ]
  },
  {
   "cell_type": "markdown",
   "id": "d74384a0-c7a7-42e4-8623-88495f4fbe37",
   "metadata": {},
   "source": [
    "If we look at the ```type``` of ```x``` we see that it is an instance of the class ```NoneType```."
   ]
  },
  {
   "cell_type": "code",
   "execution_count": 32,
   "id": "ea484752-bbc6-4dac-b953-4c24d5d80618",
   "metadata": {},
   "outputs": [
    {
     "data": {
      "text/plain": [
       "NoneType"
      ]
     },
     "execution_count": 32,
     "metadata": {},
     "output_type": "execute_result"
    }
   ],
   "source": [
    "type(x)"
   ]
  },
  {
   "cell_type": "markdown",
   "id": "ac4f3047-edb7-4c4f-8c17-407e2721f776",
   "metadata": {},
   "source": [
    "Let's define a similar function that returns the ```str``` ```hello``` instead of printing it."
   ]
  },
  {
   "cell_type": "code",
   "execution_count": 33,
   "id": "a6aef4d6-fb02-4b19-bd90-aa1c9ee596df",
   "metadata": {},
   "outputs": [],
   "source": [
    "def greeting_2():\n",
    "    \"\"\"\n",
    "    This function will return the str hello.\n",
    "    \"\"\"\n",
    "    return \"hello\"\n",
    "    \n",
    "    "
   ]
  },
  {
   "cell_type": "markdown",
   "id": "74450f30-57e2-4575-8f1c-935ef4b736d2",
   "metadata": {},
   "source": [
    "When we call the function in a cell, without assigning it to a value, the return value gets printed and the function appears to behave in the same manner."
   ]
  },
  {
   "cell_type": "code",
   "execution_count": 34,
   "id": "849b8ebb-051e-462e-bbe6-20394b36d6e4",
   "metadata": {},
   "outputs": [
    {
     "data": {
      "text/plain": [
       "'hello'"
      ]
     },
     "execution_count": 34,
     "metadata": {},
     "output_type": "execute_result"
    }
   ],
   "source": [
    "greeting_2()"
   ]
  },
  {
   "cell_type": "markdown",
   "id": "be453d8b-c706-4208-b506-210a9d66ca60",
   "metadata": {},
   "source": [
    "Notice the difference when we assign the output to a variable of object name ```y```. The value is stored with the variable ```y``` and not printed."
   ]
  },
  {
   "cell_type": "code",
   "execution_count": 35,
   "id": "bf74010c-eba4-4e1b-93a4-8fe8c2635541",
   "metadata": {},
   "outputs": [],
   "source": [
    "y = greeting_2()"
   ]
  },
  {
   "cell_type": "markdown",
   "id": "2c27a7e9-454a-487e-8861-39c9777f3941",
   "metadata": {},
   "source": [
    "Now the variable ```y``` can be output to a cell and displays the value it was assigned, the ```str`` ```hello```."
   ]
  },
  {
   "cell_type": "code",
   "execution_count": 36,
   "id": "1f908ab3-5fc5-40d8-8999-7ce17eb2fe7f",
   "metadata": {},
   "outputs": [
    {
     "data": {
      "text/plain": [
       "'hello'"
      ]
     },
     "execution_count": 36,
     "metadata": {},
     "output_type": "execute_result"
    }
   ],
   "source": [
    "y"
   ]
  },
  {
   "cell_type": "code",
   "execution_count": 37,
   "id": "06b01c4f-b6f7-412e-871c-b73aeed81f4e",
   "metadata": {},
   "outputs": [
    {
     "data": {
      "text/plain": [
       "str"
      ]
     },
     "execution_count": 37,
     "metadata": {},
     "output_type": "execute_result"
    }
   ],
   "source": [
    "type(y)"
   ]
  },
  {
   "cell_type": "markdown",
   "id": "a4d22b68-023b-4e8c-bf27-cb010db58b4b",
   "metadata": {},
   "source": [
    "Let's create a function to calculate a persons body mass index, abbreviated bmi. This function will have two positional input arguments, the weight in kg and the height in cm. It will return one value, the persons bmi."
   ]
  },
  {
   "cell_type": "code",
   "execution_count": 38,
   "id": "8f6ef7e7-eb66-4cc3-a2a9-401679e80bfe",
   "metadata": {},
   "outputs": [],
   "source": [
    "def bmi_calc(weight_kg, height_cm):\n",
    "    \"\"\"\n",
    "    Calculates the bmi of a person rounded to 1 decimal place.\n",
    "    height_cm is the persons height in cm\n",
    "    weight_kg is the persons weight in kg\n",
    "    \"\"\"\n",
    "    bmi = weight_kg / ( (height_cm / 100) ** 2)\n",
    "    bmi = round(bmi, ndigits=1)\n",
    "    return bmi\n",
    "\n"
   ]
  },
  {
   "cell_type": "markdown",
   "id": "02aaa5a1-7284-416d-8f49-3290fd4dcb73",
   "metadata": {},
   "source": [
    "Now let's go to use this function. To view the functions document string as a tooltip we can type in the functions name followed by a shift and tab. Alternatively we can output the docstring to a cell by use of the ```?```."
   ]
  },
  {
   "cell_type": "code",
   "execution_count": 39,
   "id": "9a84951a-3c4b-4ec3-831c-a9ac508ef4a2",
   "metadata": {},
   "outputs": [
    {
     "data": {
      "text/plain": [
       "\u001b[1;31mSignature:\u001b[0m  \u001b[0mbmi_calc\u001b[0m\u001b[1;33m(\u001b[0m\u001b[0mweight_kg\u001b[0m\u001b[1;33m,\u001b[0m \u001b[0mheight_cm\u001b[0m\u001b[1;33m)\u001b[0m\u001b[1;33m\u001b[0m\u001b[1;33m\u001b[0m\u001b[0m\n",
       "\u001b[1;31mDocstring:\u001b[0m\n",
       "Calculates the bmi of a person rounded to 1 decimal place.\n",
       "height_cm is the persons height in cm\n",
       "weight_kg is the persons weight in kg\n",
       "\u001b[1;31mFile:\u001b[0m      c:\\users\\phili\\documents\\<ipython-input-38-49e66cb0286d>\n",
       "\u001b[1;31mType:\u001b[0m      function\n"
      ]
     },
     "metadata": {},
     "output_type": "display_data"
    }
   ],
   "source": [
    "? bmi_calc"
   ]
  },
  {
   "cell_type": "code",
   "execution_count": 40,
   "id": "0f9d787f-9396-47f7-a432-37e7a364fcaa",
   "metadata": {},
   "outputs": [
    {
     "data": {
      "text/plain": [
       "25.8"
      ]
     },
     "execution_count": 40,
     "metadata": {},
     "output_type": "execute_result"
    }
   ],
   "source": [
    "bmi_calc(72, 167)"
   ]
  },
  {
   "cell_type": "markdown",
   "id": "8a883ec0-a30a-43ea-b161-5275ec5a8608",
   "metadata": {},
   "source": [
    "Now let's create a unit conversion function, which converts the length in inches to the length in cm. This function will have one keyword input argument which has a default value of 1 and a single return value which is the length in cm."
   ]
  },
  {
   "cell_type": "code",
   "execution_count": 41,
   "id": "645f6f36-4493-4c5e-819d-8f205e2441c9",
   "metadata": {},
   "outputs": [],
   "source": [
    "def inch2cm(inches=1):\n",
    "    \"\"\"\n",
    "    Unit conversion from inches to cm.\n",
    "    By default 1 inch will be converted into cm.\n",
    "    \"\"\"\n",
    "    cms = inches * 2.54\n",
    "    return cms\n",
    "\n"
   ]
  },
  {
   "cell_type": "markdown",
   "id": "d7996287-7e2d-4987-8322-b703dcea2731",
   "metadata": {},
   "source": [
    "Let's now go to use this function. To view the functions document string as a tooltip we can type in the functions name followed by a shift and tab. Alternatively we can output the docstring to a cell by use of the ```?```."
   ]
  },
  {
   "cell_type": "code",
   "execution_count": 42,
   "id": "9d5344b1-d10a-47d2-83f6-a88f82cd9192",
   "metadata": {},
   "outputs": [
    {
     "data": {
      "text/plain": [
       "\u001b[1;31mSignature:\u001b[0m  \u001b[0minch2cm\u001b[0m\u001b[1;33m(\u001b[0m\u001b[0minches\u001b[0m\u001b[1;33m=\u001b[0m\u001b[1;36m1\u001b[0m\u001b[1;33m)\u001b[0m\u001b[1;33m\u001b[0m\u001b[1;33m\u001b[0m\u001b[0m\n",
       "\u001b[1;31mDocstring:\u001b[0m\n",
       "Unit conversion from inches to cm.\n",
       "By default 1 inch will be converted into cm.\n",
       "\u001b[1;31mFile:\u001b[0m      c:\\users\\phili\\documents\\<ipython-input-41-4329fd457ddf>\n",
       "\u001b[1;31mType:\u001b[0m      function\n"
      ]
     },
     "metadata": {},
     "output_type": "display_data"
    }
   ],
   "source": [
    "? inch2cm"
   ]
  },
  {
   "cell_type": "markdown",
   "id": "5eeb2969-fd21-488e-840c-c00a30baa9a1",
   "metadata": {},
   "source": [
    "Let's convert 1 inch to cm."
   ]
  },
  {
   "cell_type": "code",
   "execution_count": 43,
   "id": "79159f37-f136-41ee-8fd4-734d457f3a11",
   "metadata": {},
   "outputs": [
    {
     "data": {
      "text/plain": [
       "2.54"
      ]
     },
     "execution_count": 43,
     "metadata": {},
     "output_type": "execute_result"
    }
   ],
   "source": [
    "inch2cm()"
   ]
  },
  {
   "cell_type": "code",
   "execution_count": 44,
   "id": "ee593c78-d170-4274-be34-4b288de21308",
   "metadata": {},
   "outputs": [
    {
     "data": {
      "text/plain": [
       "2.54"
      ]
     },
     "execution_count": 44,
     "metadata": {},
     "output_type": "execute_result"
    }
   ],
   "source": [
    "inch2cm(1)"
   ]
  },
  {
   "cell_type": "code",
   "execution_count": 45,
   "id": "04a24032-fcf2-4513-bb70-3d46af45ac69",
   "metadata": {},
   "outputs": [
    {
     "data": {
      "text/plain": [
       "2.54"
      ]
     },
     "execution_count": 45,
     "metadata": {},
     "output_type": "execute_result"
    }
   ],
   "source": [
    "inch2cm(inches=1)"
   ]
  },
  {
   "cell_type": "markdown",
   "id": "310e096d-d839-47f2-8e57-d1cc5ff838ee",
   "metadata": {},
   "source": [
    "Now let's convert 10 inches to cm."
   ]
  },
  {
   "cell_type": "code",
   "execution_count": 46,
   "id": "dc5531cd-a6c0-413b-9e18-8de26c19f902",
   "metadata": {},
   "outputs": [
    {
     "data": {
      "text/plain": [
       "25.4"
      ]
     },
     "execution_count": 46,
     "metadata": {},
     "output_type": "execute_result"
    }
   ],
   "source": [
    "inch2cm(10)"
   ]
  },
  {
   "cell_type": "code",
   "execution_count": 47,
   "id": "45f80324-0432-4113-a41e-7c2dcda5ff75",
   "metadata": {},
   "outputs": [
    {
     "data": {
      "text/plain": [
       "25.4"
      ]
     },
     "execution_count": 47,
     "metadata": {},
     "output_type": "execute_result"
    }
   ],
   "source": [
    "inch2cm(inches=10)"
   ]
  },
  {
   "cell_type": "markdown",
   "id": "06097a78-e033-4b35-9f33-8f86c882602f",
   "metadata": {},
   "source": [
    "## \\*args and \\*\\*kwargs"
   ]
  },
  {
   "cell_type": "markdown",
   "id": "7aff7cf5-cbcf-4133-aead-39767a200b9a",
   "metadata": {},
   "source": [
    "So far we have looked at a fixed number of positional input arguments and a fixed number of keyword input arguments. Sometimes we want more flexibility in our functions. For example if we look at the ```print``` function docstring we see that the positional input arguments are ```value```, ... which indicates the fact that we can provide one or multiple values for the positional input arguments."
   ]
  },
  {
   "cell_type": "code",
   "execution_count": 48,
   "id": "30ad5acf-4557-424e-bc80-377f125f87f5",
   "metadata": {},
   "outputs": [
    {
     "data": {
      "text/plain": [
       "\u001b[1;31mDocstring:\u001b[0m\n",
       "print(value, ..., sep=' ', end='\\n', file=sys.stdout, flush=False)\n",
       "\n",
       "Prints the values to a stream, or to sys.stdout by default.\n",
       "Optional keyword arguments:\n",
       "file:  a file-like object (stream); defaults to the current sys.stdout.\n",
       "sep:   string inserted between values, default a space.\n",
       "end:   string appended after the last value, default a newline.\n",
       "flush: whether to forcibly flush the stream.\n",
       "\u001b[1;31mType:\u001b[0m      builtin_function_or_method\n"
      ]
     },
     "metadata": {},
     "output_type": "display_data"
    }
   ],
   "source": [
    "? print"
   ]
  },
  {
   "cell_type": "code",
   "execution_count": 49,
   "id": "f1339da1-2f42-414e-869c-1bcd4d96ea31",
   "metadata": {},
   "outputs": [
    {
     "name": "stdout",
     "output_type": "stream",
     "text": [
      "apple\n"
     ]
    }
   ],
   "source": [
    "print(\"apple\")"
   ]
  },
  {
   "cell_type": "code",
   "execution_count": 50,
   "id": "5266b6e6-7926-4b85-8815-d9518714ff81",
   "metadata": {},
   "outputs": [
    {
     "name": "stdout",
     "output_type": "stream",
     "text": [
      "apple banana\n"
     ]
    }
   ],
   "source": [
    "print(\"apple\", \"banana\")"
   ]
  },
  {
   "cell_type": "code",
   "execution_count": 51,
   "id": "291a7282-9550-4be9-a170-9ca937fbbd8c",
   "metadata": {},
   "outputs": [
    {
     "name": "stdout",
     "output_type": "stream",
     "text": [
      "apple banana melon\n"
     ]
    }
   ],
   "source": [
    "print(\"apple\", \"banana\", \"melon\")"
   ]
  },
  {
   "cell_type": "markdown",
   "id": "8b544937-1248-455c-a139-6e26cbe58e54",
   "metadata": {},
   "source": [
    "The keyword input argument ```sep``` can be used to control what is printed as a seperator between each value addded and has a default value of a space ```\" \"``` and ```end``` can be used to control what is pritned at the end of the print statement and has a default value of ```\"\\n\"``` which is an escape character meaning new line."
   ]
  },
  {
   "cell_type": "markdown",
   "id": "e990d012-bbb6-451b-86aa-3a7908c07374",
   "metadata": {},
   "source": [
    "Let's have a look at creating our own function that prints out each value input on a new line. To do this we will use a ```for``` loop. \n",
    "\n",
    "The ```for``` loop is indented by four spaces as it belongs to the code block of the function. \n",
    "\n",
    "Recall that the top line ```def varying_args(*args):``` ends in a colon ```:``` designating the beginning of a code block.\n",
    "\n",
    "The ```for``` loop also ends in a colon ```:``` designating the beginning of a ```for``` loop code block. Code belonging to this is indented by 8 spaces (4 indicating that the code in the ```for``` loop belongs to the function and a further 4 indicating that the code belongs to the for loop code block)."
   ]
  },
  {
   "cell_type": "code",
   "execution_count": 52,
   "id": "2702a72d-40b9-43f0-bcca-6b769180ebe8",
   "metadata": {},
   "outputs": [],
   "source": [
    "def varying_args(*args):\n",
    "    \"\"\"\n",
    "    This will print each positional input argument on a new line.\n",
    "    \"\"\"\n",
    "    for value in args:\n",
    "        print(value)\n",
    "        \n",
    "        "
   ]
  },
  {
   "cell_type": "code",
   "execution_count": 53,
   "id": "2e066863-02da-4185-86f7-74c52eada887",
   "metadata": {},
   "outputs": [
    {
     "name": "stdout",
     "output_type": "stream",
     "text": [
      "1\n"
     ]
    }
   ],
   "source": [
    "varying_args(1)"
   ]
  },
  {
   "cell_type": "code",
   "execution_count": 54,
   "id": "90ac1ce1-52b5-43bd-be43-093dd8a53dc6",
   "metadata": {},
   "outputs": [
    {
     "name": "stdout",
     "output_type": "stream",
     "text": [
      "1\n",
      "2\n"
     ]
    }
   ],
   "source": [
    "varying_args(1, 2)"
   ]
  },
  {
   "cell_type": "code",
   "execution_count": 55,
   "id": "b1b60f27-3940-407c-9d01-6d5e87319adf",
   "metadata": {},
   "outputs": [
    {
     "name": "stdout",
     "output_type": "stream",
     "text": [
      "1\n",
      "2\n",
      "3\n"
     ]
    }
   ],
   "source": [
    "varying_args(1, 2, 3)"
   ]
  },
  {
   "cell_type": "markdown",
   "id": "a374c866-4180-48df-992a-a02b04c13aae",
   "metadata": {},
   "source": [
    "Alternatively to allow for multiple keyword input arguments we can use ```**kwargs```. \n",
    "\n",
    "Iterating through this is the same as iterating through a ```dict```. Recall that a ```dict``` uses ```{ }``` to enclose its number of ```key:value``` pairs which are seperated by use of a comma ```,``` delimiter."
   ]
  },
  {
   "cell_type": "code",
   "execution_count": 56,
   "id": "c320d52f-9d8b-40c3-bf96-72ca1ab9ffd1",
   "metadata": {},
   "outputs": [],
   "source": [
    "d1 = {\"key0\":0,\n",
    "     \"key1\":1,\n",
    "     \"key2\":2,}"
   ]
  },
  {
   "cell_type": "code",
   "execution_count": 57,
   "id": "28f0f501-7568-446b-a062-ad21c16dbe35",
   "metadata": {},
   "outputs": [],
   "source": [
    "d1 = {\"key0\":0,\"key1\":1,\"key2\":2}"
   ]
  },
  {
   "cell_type": "markdown",
   "id": "e445f051-7fd6-44f9-9c6b-442579d146e8",
   "metadata": {},
   "source": [
    "To iterate through a ```dict``` we need to use the dictionary method ```items```. We will explorer the use of methods in more detail shortly but for now consider it as a function called from an object. This particular function ```items()``` has no input arguments. The output of this is essentially a list of tuples, where each tuple consists of the key and value."
   ]
  },
  {
   "cell_type": "code",
   "execution_count": 58,
   "id": "00ce894f-525a-4c7b-8d25-ad678de0955c",
   "metadata": {},
   "outputs": [
    {
     "data": {
      "text/plain": [
       "dict_items([('key0', 0), ('key1', 1), ('key2', 2)])"
      ]
     },
     "execution_count": 58,
     "metadata": {},
     "output_type": "execute_result"
    }
   ],
   "source": [
    "d1.items()"
   ]
  },
  {
   "cell_type": "markdown",
   "id": "83d48ada-f14e-43dc-b47b-d855f4fa55bb",
   "metadata": {},
   "source": [
    "We can loop through each tuple usign a ```for``` loop much in the same manner as before. Let's create a function that prints each key and value pair on a new line for a variable number of keyword arguments."
   ]
  },
  {
   "cell_type": "code",
   "execution_count": 59,
   "id": "78722c16-f1e9-452c-a4ec-697794ad561a",
   "metadata": {},
   "outputs": [],
   "source": [
    "def varying_kwargs(**kwargs):\n",
    "    \"\"\"\n",
    "    This will print each keyword input argument pair on a new line.\n",
    "    \"\"\"\n",
    "    for (key,value) in kwargs.items():\n",
    "        print(key,value)\n",
    "        \n",
    "        "
   ]
  },
  {
   "cell_type": "code",
   "execution_count": 60,
   "id": "41a69e94-7d3e-48b2-81b5-585af657b879",
   "metadata": {},
   "outputs": [
    {
     "name": "stdout",
     "output_type": "stream",
     "text": [
      "a 1\n"
     ]
    }
   ],
   "source": [
    "varying_kwargs(a=1)"
   ]
  },
  {
   "cell_type": "code",
   "execution_count": 61,
   "id": "41ab7e8e-4de8-46d5-ab19-552c367dcea4",
   "metadata": {},
   "outputs": [
    {
     "name": "stdout",
     "output_type": "stream",
     "text": [
      "a 1\n",
      "b 2\n"
     ]
    }
   ],
   "source": [
    "varying_kwargs(a=1, b=2)"
   ]
  },
  {
   "cell_type": "code",
   "execution_count": 62,
   "id": "c9122e80-3eec-4665-a094-41c86a7ae441",
   "metadata": {},
   "outputs": [
    {
     "name": "stdout",
     "output_type": "stream",
     "text": [
      "a 1\n",
      "b 2\n",
      "c 3\n"
     ]
    }
   ],
   "source": [
    "varying_kwargs(a=1, b=2, c=3)"
   ]
  },
  {
   "cell_type": "markdown",
   "id": "80111d23-c9c9-43bb-82d7-c3664980aca4",
   "metadata": {},
   "source": [
    "This kind of functionality is useful if we want to create a summation function that returns the sum of all the input arguments."
   ]
  },
  {
   "cell_type": "code",
   "execution_count": 63,
   "id": "d5af962f-4f55-47aa-b437-83074e3bce19",
   "metadata": {},
   "outputs": [],
   "source": [
    "def summation(*args):\n",
    "    \"\"\"\n",
    "    Returns the sum of all positional input arguments.\n",
    "    \"\"\"\n",
    "    input_sum = 0\n",
    "    for arg in args:\n",
    "        input_sum += arg\n",
    "    return input_sum\n",
    "\n",
    "        "
   ]
  },
  {
   "cell_type": "code",
   "execution_count": 64,
   "id": "82374f7e-1bb1-46f1-9668-f241c5ece583",
   "metadata": {},
   "outputs": [
    {
     "data": {
      "text/plain": [
       "6"
      ]
     },
     "execution_count": 64,
     "metadata": {},
     "output_type": "execute_result"
    }
   ],
   "source": [
    "summation(1, 2, 3)"
   ]
  },
  {
   "cell_type": "markdown",
   "id": "ad9da8c8-ef7a-48b1-9f70-9d6a6e7849ab",
   "metadata": {},
   "source": [
    "In some cases we can set up our function to behave different depending on the number of input arguments provided by the user. The code can be directed by using the inbuilt ```len``` function to determine the number of input arguments alongside ```if```, ```elif``` and ```else``` blocks. We can update the function ```varying_args``` to inform the user they have provided no positional input arguments. \n",
    "\n",
    "Once again pay attention to the colons ```:``` which designate the beginning of a new code block and indentations by multiples of 4 spaces."
   ]
  },
  {
   "cell_type": "code",
   "execution_count": 65,
   "id": "9e914728-9f5e-49ff-b080-ea04db1a917a",
   "metadata": {},
   "outputs": [],
   "source": [
    "def varying_args(*args):\n",
    "    \"\"\"\n",
    "    This will print each positional input argument on a new line or if no positional input arguments are provided.\n",
    "    Inform the user that no positional input arguments were provided.\n",
    "    \"\"\"\n",
    "    if len(args) == 0:\n",
    "        print(\"You have provided no positional input arguments\")\n",
    "    else:\n",
    "        for arg in args:\n",
    "            print(arg)\n",
    "            \n",
    "            "
   ]
  },
  {
   "cell_type": "code",
   "execution_count": 66,
   "id": "995d6cb9-4fa9-4e45-b5de-01ea486ea6f9",
   "metadata": {},
   "outputs": [
    {
     "name": "stdout",
     "output_type": "stream",
     "text": [
      "You have provided no positional input arguments\n"
     ]
    }
   ],
   "source": [
    "varying_args()"
   ]
  },
  {
   "cell_type": "code",
   "execution_count": 67,
   "id": "93e5fc71-51aa-4785-8850-749ac75d5386",
   "metadata": {},
   "outputs": [
    {
     "name": "stdout",
     "output_type": "stream",
     "text": [
      "1\n"
     ]
    }
   ],
   "source": [
    "varying_args(1)"
   ]
  },
  {
   "cell_type": "code",
   "execution_count": 68,
   "id": "9845a819-bf8a-4b2b-954f-8edbf3b0240a",
   "metadata": {},
   "outputs": [
    {
     "name": "stdout",
     "output_type": "stream",
     "text": [
      "1\n",
      "2\n"
     ]
    }
   ],
   "source": [
    "varying_args(1, 2)"
   ]
  },
  {
   "cell_type": "code",
   "execution_count": 69,
   "id": "768bf7b5-ab5d-49a4-a947-8956bc78114f",
   "metadata": {},
   "outputs": [
    {
     "name": "stdout",
     "output_type": "stream",
     "text": [
      "1\n",
      "2\n",
      "3\n"
     ]
    }
   ],
   "source": [
    "varying_args(1, 2, 3)"
   ]
  },
  {
   "cell_type": "markdown",
   "id": "26809c08-ebf5-49cf-b78b-99f898feb1a9",
   "metadata": {},
   "source": [
    "```*args``` and ```**kwargs``` can also be used within a function to provide all positional input arguments in the form of a tuple and all keyword arguments in the form of a dictionary. Recall the function ```bmi_calc``` that we previously defined. We can see that it requires 2 positional input arguments."
   ]
  },
  {
   "cell_type": "code",
   "execution_count": 70,
   "id": "a4851083-f5ef-4692-8b18-5c0535ba626a",
   "metadata": {},
   "outputs": [
    {
     "data": {
      "text/plain": [
       "\u001b[1;31mSignature:\u001b[0m  \u001b[0mbmi_calc\u001b[0m\u001b[1;33m(\u001b[0m\u001b[0mweight_kg\u001b[0m\u001b[1;33m,\u001b[0m \u001b[0mheight_cm\u001b[0m\u001b[1;33m)\u001b[0m\u001b[1;33m\u001b[0m\u001b[1;33m\u001b[0m\u001b[0m\n",
       "\u001b[1;31mDocstring:\u001b[0m\n",
       "Calculates the bmi of a person rounded to 1 decimal place.\n",
       "height_cm is the persons height in cm\n",
       "weight_kg is the persons weight in kg\n",
       "\u001b[1;31mFile:\u001b[0m      c:\\users\\phili\\documents\\<ipython-input-38-49e66cb0286d>\n",
       "\u001b[1;31mType:\u001b[0m      function\n"
      ]
     },
     "metadata": {},
     "output_type": "display_data"
    }
   ],
   "source": [
    "? bmi_calc"
   ]
  },
  {
   "cell_type": "markdown",
   "id": "0b9f1cfa-8489-4d3a-b962-40276c611614",
   "metadata": {},
   "source": [
    "We can provide them in the form of a tuple."
   ]
  },
  {
   "cell_type": "code",
   "execution_count": 71,
   "id": "da62ddbd-3357-4311-b5a2-bed876f2c1b5",
   "metadata": {},
   "outputs": [],
   "source": [
    "metrics = (72, 167)"
   ]
  },
  {
   "cell_type": "code",
   "execution_count": 72,
   "id": "77ca2c0c-993f-4f11-ae48-e325efa59cbd",
   "metadata": {},
   "outputs": [
    {
     "data": {
      "text/plain": [
       "25.8"
      ]
     },
     "execution_count": 72,
     "metadata": {},
     "output_type": "execute_result"
    }
   ],
   "source": [
    "bmi_calc(*metrics)"
   ]
  },
  {
   "cell_type": "markdown",
   "id": "7125abe0-d7b9-4386-bba6-fccffa2dd46c",
   "metadata": {},
   "source": [
    "Recall the function ```inch2cm``` that we previously defined. We can see that it requires 1 keyword input argument ```inches```."
   ]
  },
  {
   "cell_type": "code",
   "execution_count": 73,
   "id": "afbf54e3-2c4c-4ec2-8161-c0fd6edc960a",
   "metadata": {},
   "outputs": [
    {
     "data": {
      "text/plain": [
       "\u001b[1;31mSignature:\u001b[0m  \u001b[0minch2cm\u001b[0m\u001b[1;33m(\u001b[0m\u001b[0minches\u001b[0m\u001b[1;33m=\u001b[0m\u001b[1;36m1\u001b[0m\u001b[1;33m)\u001b[0m\u001b[1;33m\u001b[0m\u001b[1;33m\u001b[0m\u001b[0m\n",
       "\u001b[1;31mDocstring:\u001b[0m\n",
       "Unit conversion from inches to cm.\n",
       "By default 1 inch will be converted into cm.\n",
       "\u001b[1;31mFile:\u001b[0m      c:\\users\\phili\\documents\\<ipython-input-41-4329fd457ddf>\n",
       "\u001b[1;31mType:\u001b[0m      function\n"
      ]
     },
     "metadata": {},
     "output_type": "display_data"
    }
   ],
   "source": [
    "? inch2cm"
   ]
  },
  {
   "cell_type": "markdown",
   "id": "d72a2341-61f6-4641-8023-9f0739962b8d",
   "metadata": {},
   "source": [
    "We can create a dictionary with this keyword input argument in the form of a ```str``` for the key and our assigned value."
   ]
  },
  {
   "cell_type": "code",
   "execution_count": 74,
   "id": "3718cd66-35e7-4ec8-bfb1-0cd8ee21f586",
   "metadata": {},
   "outputs": [],
   "source": [
    "length = {\"inches\":2}"
   ]
  },
  {
   "cell_type": "code",
   "execution_count": 75,
   "id": "9cb0aa9f-5f15-413e-9e90-c862362bcc6e",
   "metadata": {},
   "outputs": [
    {
     "data": {
      "text/plain": [
       "5.08"
      ]
     },
     "execution_count": 75,
     "metadata": {},
     "output_type": "execute_result"
    }
   ],
   "source": [
    "inch2cm(**length)"
   ]
  },
  {
   "cell_type": "markdown",
   "id": "d5a46bca-47ed-46cd-a5d8-bfa6f0c18fec",
   "metadata": {},
   "source": [
    "## using inbuilt classes"
   ]
  },
  {
   "cell_type": "markdown",
   "id": "11fa8b9e-0ec9-46e6-a255-f67f74707455",
   "metadata": {},
   "source": [
    "We can create an instance of the ```int``` class ```num_1``` by inputting:"
   ]
  },
  {
   "cell_type": "code",
   "execution_count": 76,
   "id": "f3738e89-6903-47b5-a6bd-53b98c823349",
   "metadata": {},
   "outputs": [],
   "source": [
    "num_1 = 1"
   ]
  },
  {
   "cell_type": "markdown",
   "id": "1e6e29d1-14e6-4b5e-953d-b5a5319aedc4",
   "metadata": {},
   "source": [
    "More explicitly we can use the ```int``` class. Let's have a look at the docstring for the ```int``` class. To view the doctring as a tooltip we can type in the class name followed by a shift and tab. Alternatively we can output the docstring to a cell by use of the ```?```. This is identical to the way we view a docstring of a function."
   ]
  },
  {
   "cell_type": "code",
   "execution_count": 77,
   "id": "717d4eec-070e-4f07-a4a7-e656878378e8",
   "metadata": {},
   "outputs": [
    {
     "data": {
      "text/plain": [
       "\u001b[1;31mInit signature:\u001b[0m  \u001b[0mint\u001b[0m\u001b[1;33m(\u001b[0m\u001b[0mself\u001b[0m\u001b[1;33m,\u001b[0m \u001b[1;33m/\u001b[0m\u001b[1;33m,\u001b[0m \u001b[1;33m*\u001b[0m\u001b[0margs\u001b[0m\u001b[1;33m,\u001b[0m \u001b[1;33m**\u001b[0m\u001b[0mkwargs\u001b[0m\u001b[1;33m)\u001b[0m\u001b[1;33m\u001b[0m\u001b[1;33m\u001b[0m\u001b[0m\n",
       "\u001b[1;31mDocstring:\u001b[0m     \n",
       "int([x]) -> integer\n",
       "int(x, base=10) -> integer\n",
       "\n",
       "Convert a number or string to an integer, or return 0 if no arguments\n",
       "are given.  If x is a number, return x.__int__().  For floating point\n",
       "numbers, this truncates towards zero.\n",
       "\n",
       "If x is not a number or if base is given, then x must be a string,\n",
       "bytes, or bytearray instance representing an integer literal in the\n",
       "given base.  The literal can be preceded by '+' or '-' and be surrounded\n",
       "by whitespace.  The base defaults to 10.  Valid bases are 0 and 2-36.\n",
       "Base 0 means to interpret the base from the string as an integer literal.\n",
       ">>> int('0b100', base=0)\n",
       "4\n",
       "\u001b[1;31mType:\u001b[0m           type\n",
       "\u001b[1;31mSubclasses:\u001b[0m     bool, IntEnum, IntFlag, _NamedIntConstant, Handle\n"
      ]
     },
     "metadata": {},
     "output_type": "display_data"
    }
   ],
   "source": [
    "? int"
   ]
  },
  {
   "cell_type": "markdown",
   "id": "f64c7eb5-97e4-47fa-b00d-f934d822b285",
   "metadata": {},
   "source": [
    "In the docstring we see an init signature (an abbreviation for initialization). The init signature can be thought of as a function that is ran when the class is created. \n",
    "\n",
    "The init signatures input arguments are ```self``` which is a reference to the instance of the class being created. ```self``` is not provided by the user as an input argument but automatically assigned from the object name. This will be discussed in more details later.\n",
    "\n",
    "The init signature also has ```*args``` and ```**kwargs``` which essentially means it is setup to take in a varying number of positional and input arguments and under the hood we can think of the code beng setup to measure the ```len``` of the input arguments and accomodate allowed lengths through an ```if```, ```elif``` and ```else``` code block."
   ]
  },
  {
   "cell_type": "code",
   "execution_count": 78,
   "id": "c8ca7164-e74b-4537-92e5-2058b4a3a968",
   "metadata": {},
   "outputs": [],
   "source": [
    "num_2 = int(1)"
   ]
  },
  {
   "cell_type": "code",
   "execution_count": 79,
   "id": "4f1aaad1-e164-42c9-907d-e0d6b9a892d2",
   "metadata": {},
   "outputs": [
    {
     "data": {
      "text/plain": [
       "1"
      ]
     },
     "execution_count": 79,
     "metadata": {},
     "output_type": "execute_result"
    }
   ],
   "source": [
    "num_2"
   ]
  },
  {
   "cell_type": "code",
   "execution_count": 80,
   "id": "ed190f4a-fd10-4c68-b827-85d181d4fc0b",
   "metadata": {},
   "outputs": [],
   "source": [
    "num_3 = int(\"1\", base=10)"
   ]
  },
  {
   "cell_type": "code",
   "execution_count": 81,
   "id": "48cd3df1-1543-49f0-aed7-4e2789998312",
   "metadata": {},
   "outputs": [
    {
     "data": {
      "text/plain": [
       "1"
      ]
     },
     "execution_count": 81,
     "metadata": {},
     "output_type": "execute_result"
    }
   ],
   "source": [
    "num_3"
   ]
  },
  {
   "cell_type": "code",
   "execution_count": 82,
   "id": "26405d1b-0884-479e-be79-a641de1b9977",
   "metadata": {},
   "outputs": [],
   "source": [
    "num_4 = int(\"1\", 10)"
   ]
  },
  {
   "cell_type": "code",
   "execution_count": 83,
   "id": "c24d032b-47a1-4403-b8e4-ece33371d307",
   "metadata": {},
   "outputs": [
    {
     "data": {
      "text/plain": [
       "1"
      ]
     },
     "execution_count": 83,
     "metadata": {},
     "output_type": "execute_result"
    }
   ],
   "source": [
    "num_4"
   ]
  },
  {
   "cell_type": "markdown",
   "id": "42d68cea-5a9a-4f14-896f-075e6ec44ec3",
   "metadata": {},
   "source": [
    "Any not allowed combination gives a type error."
   ]
  },
  {
   "cell_type": "code",
   "execution_count": 84,
   "id": "97d96cba-0bd3-4714-8f93-851c2b6c4775",
   "metadata": {},
   "outputs": [
    {
     "ename": "TypeError",
     "evalue": "int() takes at most 2 arguments (3 given)",
     "output_type": "error",
     "traceback": [
      "\u001b[1;31m---------------------------------------------------------------------------\u001b[0m",
      "\u001b[1;31mTypeError\u001b[0m                                 Traceback (most recent call last)",
      "\u001b[1;32m<ipython-input-84-412e4f160310>\u001b[0m in \u001b[0;36m<module>\u001b[1;34m\u001b[0m\n\u001b[1;32m----> 1\u001b[1;33m \u001b[0mnum_5\u001b[0m \u001b[1;33m=\u001b[0m \u001b[0mint\u001b[0m\u001b[1;33m(\u001b[0m\u001b[1;34m\"1\"\u001b[0m\u001b[1;33m,\u001b[0m \u001b[1;36m1\u001b[0m\u001b[1;33m,\u001b[0m \u001b[1;36m1\u001b[0m\u001b[1;33m)\u001b[0m\u001b[1;33m\u001b[0m\u001b[1;33m\u001b[0m\u001b[0m\n\u001b[0m",
      "\u001b[1;31mTypeError\u001b[0m: int() takes at most 2 arguments (3 given)"
     ]
    }
   ],
   "source": [
    "num_5 = int(\"1\", 1, 1)"
   ]
  },
  {
   "cell_type": "markdown",
   "id": "fd0846d2-292d-4219-a87d-71c6646d9b99",
   "metadata": {},
   "source": [
    "Now that an instance is created we can type in the instance name ```num_1``` followed by a dot . and tab to view all the instances, functions and classes which can be called from the instance of the ```int``` class."
   ]
  },
  {
   "cell_type": "code",
   "execution_count": null,
   "id": "d2a35fed-e46b-4d0b-a7a1-ceb286e48292",
   "metadata": {},
   "outputs": [],
   "source": [
    "num_1."
   ]
  },
  {
   "cell_type": "markdown",
   "id": "3b097473-a5b4-4c77-9208-58c7a090b51f",
   "metadata": {},
   "source": [
    "|instances|functions|\n",
    "|:-:|:-:|\n",
    "|denominator|as_integer_ratio|\n",
    "|imag|bit_length|\n",
    "|numerator|conjugate|\n",
    "|real|from_bytes|"
   ]
  },
  {
   "cell_type": "markdown",
   "id": "6957d572-1798-4383-8b30-8e74365fdd2a",
   "metadata": {},
   "source": [
    "All the instances and functions available are defined in the ```int``` class.\n",
    "\n",
    "The instances listed are instances of classes (they can be instances of the same class as ```num_1``` i.e. ```int``` or of different classes) that can be referenced with respect to the ```int``` instance ```num_1```. They are an attribute of this number (which can be thought of as a property of this number). The word attribute is defined as an object which is called with reference to another object. We can think of the dot indexing as  ```object.attribute```.\n",
    "\n",
    "In the case of a ```int``` the attribute ```numerator``` will correspond to the value of ```num_1``` and therefore return an ```int``` with the same value and the attribute ```denominator``` will always return an ```int``` of the value 1 because an ```int``` does not have a fractional component."
   ]
  },
  {
   "cell_type": "code",
   "execution_count": 85,
   "id": "8c65d9fe-8c24-4be8-be7d-5b068b832035",
   "metadata": {},
   "outputs": [
    {
     "data": {
      "text/plain": [
       "1"
      ]
     },
     "execution_count": 85,
     "metadata": {},
     "output_type": "execute_result"
    }
   ],
   "source": [
    "num_1.numerator"
   ]
  },
  {
   "cell_type": "code",
   "execution_count": 86,
   "id": "7830231a-cff9-4266-a137-52eada48045c",
   "metadata": {},
   "outputs": [
    {
     "data": {
      "text/plain": [
       "1"
      ]
     },
     "execution_count": 86,
     "metadata": {},
     "output_type": "execute_result"
    }
   ],
   "source": [
    "num_1.denominator"
   ]
  },
  {
   "cell_type": "markdown",
   "id": "143844fb-efdb-4704-a9c0-f1606301eb83",
   "metadata": {},
   "source": [
    "The attributes ```real``` will also correspond to the value of ```num_1``` and therefore return an ```int``` with the same value. The attribute ```imag``` will return an ```int``` of the value 0 as an ```int``` is not complex."
   ]
  },
  {
   "cell_type": "code",
   "execution_count": 87,
   "id": "6baab065-8534-4421-9c4c-e62cf8a1acf2",
   "metadata": {},
   "outputs": [
    {
     "data": {
      "text/plain": [
       "1"
      ]
     },
     "execution_count": 87,
     "metadata": {},
     "output_type": "execute_result"
    }
   ],
   "source": [
    "num_1.real"
   ]
  },
  {
   "cell_type": "code",
   "execution_count": 88,
   "id": "420129d6-d374-47ad-8950-0bc0fe5a18a3",
   "metadata": {},
   "outputs": [
    {
     "data": {
      "text/plain": [
       "0"
      ]
     },
     "execution_count": 88,
     "metadata": {},
     "output_type": "execute_result"
    }
   ],
   "source": [
    "num_1.imag"
   ]
  },
  {
   "cell_type": "markdown",
   "id": "4b016190-febf-4c76-81ce-de89d904398b",
   "metadata": {},
   "source": [
    "Recall that the imaginary component of a number originates from the square root of a negative value."
   ]
  },
  {
   "cell_type": "code",
   "execution_count": 89,
   "id": "6ef91220-c36d-4187-8a77-a002f7e32253",
   "metadata": {},
   "outputs": [
    {
     "data": {
      "text/plain": [
       "(6.123233995736766e-17+1j)"
      ]
     },
     "execution_count": 89,
     "metadata": {},
     "output_type": "execute_result"
    }
   ],
   "source": [
    "(-1) ** 0.5"
   ]
  },
  {
   "cell_type": "markdown",
   "id": "d547b499-39fa-43ec-986a-617f1355a158",
   "metadata": {},
   "source": [
    "The above calculation returns a real component that is a ```float``` to the negative 17 decimal place (effectively 0 but non-zero doue to ```float``` rounding errors used in the calculation) and an imaginary component of 1j where j denotes an imaginary number."
   ]
  },
  {
   "cell_type": "markdown",
   "id": "1968c74e-9e3b-4635-849c-39878b68e998",
   "metadata": {},
   "source": [
    "In the case above all the attributes are also instances of the class ```int```. These in turn can be used to call other attributes and methods."
   ]
  },
  {
   "cell_type": "code",
   "execution_count": 90,
   "id": "80912f3a-9f6b-4e43-9f39-f437f74b7355",
   "metadata": {},
   "outputs": [
    {
     "data": {
      "text/plain": [
       "int"
      ]
     },
     "execution_count": 90,
     "metadata": {},
     "output_type": "execute_result"
    }
   ],
   "source": [
    "type(num_1)"
   ]
  },
  {
   "cell_type": "code",
   "execution_count": 91,
   "id": "fd0d5321-31cc-4f33-885f-f5c8a413ecab",
   "metadata": {},
   "outputs": [
    {
     "data": {
      "text/plain": [
       "int"
      ]
     },
     "execution_count": 91,
     "metadata": {},
     "output_type": "execute_result"
    }
   ],
   "source": [
    "type(num_1.real)"
   ]
  },
  {
   "cell_type": "markdown",
   "id": "39c6a455-04ce-4bb5-a9a8-daea091498f1",
   "metadata": {},
   "source": [
    "we can type in the instance name ```num_1.real``` followed by a dot . and tab to view all the instances, functions and classes which can be called from the ```int``` instance."
   ]
  },
  {
   "cell_type": "code",
   "execution_count": 92,
   "id": "91c2ef9a-4813-458a-bc86-27537464cb25",
   "metadata": {},
   "outputs": [
    {
     "data": {
      "text/plain": [
       "1"
      ]
     },
     "execution_count": 92,
     "metadata": {},
     "output_type": "execute_result"
    }
   ],
   "source": [
    "num_1.real.real"
   ]
  },
  {
   "cell_type": "markdown",
   "id": "9b27da66-b36d-4ab5-abf3-114e70e18505",
   "metadata": {},
   "source": [
    "We can also have a look at the function ```conjugate```. Attributes generally just read off a value or property, in this case just informing us that conjugate is a function."
   ]
  },
  {
   "cell_type": "code",
   "execution_count": 93,
   "id": "a10359cc-d5cf-4b6c-a649-484db8ff1b05",
   "metadata": {},
   "outputs": [
    {
     "data": {
      "text/plain": [
       "<function int.conjugate>"
      ]
     },
     "execution_count": 93,
     "metadata": {},
     "output_type": "execute_result"
    }
   ],
   "source": [
    "num_1.conjugate"
   ]
  },
  {
   "cell_type": "markdown",
   "id": "d73b7d70-b0ed-4425-b393-20b1e2ee929e",
   "metadata": {},
   "source": [
    "To use the function we need to provide parenthesis enclosing any input arguments. A function that is called from another object is known as a method.\n",
    "\n",
    "To view the doctring as a tooltip we can type in the function name (referenced from the object using dot notation) followed by a shift and tab. Alternatively we can output the docstring to a cell by use of the ```?```. "
   ]
  },
  {
   "cell_type": "code",
   "execution_count": 94,
   "id": "fda10004-1df8-48e1-ad9a-761317c17543",
   "metadata": {},
   "outputs": [
    {
     "data": {
      "text/plain": [
       "\u001b[1;31mDocstring:\u001b[0m Returns self, the complex conjugate of any int.\n",
       "\u001b[1;31mType:\u001b[0m      builtin_function_or_method\n"
      ]
     },
     "metadata": {},
     "output_type": "display_data"
    }
   ],
   "source": [
    "? num_1.conjugate"
   ]
  },
  {
   "cell_type": "markdown",
   "id": "5adc7d32-0c4f-45e9-be9f-b7c22d195f5c",
   "metadata": {},
   "source": [
    "In this case we see that there are no input arguments to provide."
   ]
  },
  {
   "cell_type": "code",
   "execution_count": 95,
   "id": "a2fd110f-2e5b-4b7d-878c-c2476b77346d",
   "metadata": {},
   "outputs": [
    {
     "data": {
      "text/plain": [
       "1"
      ]
     },
     "execution_count": 95,
     "metadata": {},
     "output_type": "execute_result"
    }
   ],
   "source": [
    "num_1.conjugate()"
   ]
  },
  {
   "cell_type": "code",
   "execution_count": 96,
   "id": "5f682a5f-c25f-44e1-92a4-4291af777ac8",
   "metadata": {},
   "outputs": [
    {
     "data": {
      "text/plain": [
       "int"
      ]
     },
     "execution_count": 96,
     "metadata": {},
     "output_type": "execute_result"
    }
   ],
   "source": [
    "type(num_1.conjugate())"
   ]
  },
  {
   "cell_type": "markdown",
   "id": "c8d3c9e6-e3b1-403c-b089-3691902398df",
   "metadata": {},
   "source": [
    "The complex conjugate reverses the sign of the imaginary component. In this case the complex conjugate also returns the ```int``` 1 as the imaginary component of an ```int``` is zero."
   ]
  },
  {
   "cell_type": "markdown",
   "id": "2972bd4e-e97a-4fed-a27b-6c540d2309d9",
   "metadata": {},
   "source": [
    "Let's create an instance of the complex class. Here we see we have two keyword input arguments, the real and the imaginary part. Recall that the imaginary part originates the square root of a negative number."
   ]
  },
  {
   "cell_type": "code",
   "execution_count": 97,
   "id": "c965a780-7d32-47ce-b880-525e1ca2d171",
   "metadata": {},
   "outputs": [
    {
     "data": {
      "text/plain": [
       "\u001b[1;31mInit signature:\u001b[0m  \u001b[0mcomplex\u001b[0m\u001b[1;33m(\u001b[0m\u001b[0mreal\u001b[0m\u001b[1;33m=\u001b[0m\u001b[1;36m0\u001b[0m\u001b[1;33m,\u001b[0m \u001b[0mimag\u001b[0m\u001b[1;33m=\u001b[0m\u001b[1;36m0\u001b[0m\u001b[1;33m)\u001b[0m\u001b[1;33m\u001b[0m\u001b[1;33m\u001b[0m\u001b[0m\n",
       "\u001b[1;31mDocstring:\u001b[0m     \n",
       "Create a complex number from a real part and an optional imaginary part.\n",
       "\n",
       "This is equivalent to (real + imag*1j) where imag defaults to 0.\n",
       "\u001b[1;31mType:\u001b[0m           type\n",
       "\u001b[1;31mSubclasses:\u001b[0m     \n"
      ]
     },
     "metadata": {},
     "output_type": "display_data"
    }
   ],
   "source": [
    "? complex"
   ]
  },
  {
   "cell_type": "code",
   "execution_count": 98,
   "id": "5d367122-2c96-416d-89ff-90c38895c881",
   "metadata": {},
   "outputs": [],
   "source": [
    "num_6 = complex(real=1, imag=2)"
   ]
  },
  {
   "cell_type": "code",
   "execution_count": 99,
   "id": "2a09a57e-764e-4080-bb09-3e22e6b87d01",
   "metadata": {},
   "outputs": [
    {
     "data": {
      "text/plain": [
       "(1+2j)"
      ]
     },
     "execution_count": 99,
     "metadata": {},
     "output_type": "execute_result"
    }
   ],
   "source": [
    "num_6"
   ]
  },
  {
   "cell_type": "markdown",
   "id": "1553fa55-3470-465a-af1a-72b9cfa4464f",
   "metadata": {},
   "source": [
    "We see that ```num_6``` is the type complex as expected."
   ]
  },
  {
   "cell_type": "code",
   "execution_count": 100,
   "id": "1b42c3cf-1320-4dca-a2a9-7dddd14d59dd",
   "metadata": {},
   "outputs": [
    {
     "data": {
      "text/plain": [
       "complex"
      ]
     },
     "execution_count": 100,
     "metadata": {},
     "output_type": "execute_result"
    }
   ],
   "source": [
    "type(num_6)"
   ]
  },
  {
   "cell_type": "markdown",
   "id": "4925120e-06a1-480a-a76d-0294de2ce029",
   "metadata": {},
   "source": [
    "We can also create a complex number directly by using ```j```."
   ]
  },
  {
   "cell_type": "code",
   "execution_count": 101,
   "id": "f985f979-cc79-4265-ad2f-fcaa8616075d",
   "metadata": {},
   "outputs": [],
   "source": [
    "num_7 = 1 + 2j"
   ]
  },
  {
   "cell_type": "code",
   "execution_count": 102,
   "id": "5f689487-2955-41e0-89f5-ca0efc67c3ba",
   "metadata": {},
   "outputs": [
    {
     "data": {
      "text/plain": [
       "(1+2j)"
      ]
     },
     "execution_count": 102,
     "metadata": {},
     "output_type": "execute_result"
    }
   ],
   "source": [
    "num_7"
   ]
  },
  {
   "cell_type": "markdown",
   "id": "2d587825-3ae7-4622-b1d0-c1a0f0818baa",
   "metadata": {},
   "source": [
    "We can access its list of attributes by typing in the object name followed by a dot and tab."
   ]
  },
  {
   "cell_type": "code",
   "execution_count": null,
   "id": "b1e98638-e48f-44b4-9c72-2d5012bfc07d",
   "metadata": {},
   "outputs": [],
   "source": [
    "num_7."
   ]
  },
  {
   "cell_type": "markdown",
   "id": "fc1666e7-1ec0-4b06-9c92-8ca473421318",
   "metadata": {},
   "source": [
    "We see that the ```complex``` class has a subset of the attributes defined in the ```int``` class."
   ]
  },
  {
   "cell_type": "markdown",
   "id": "f8cf44f2-8c69-487d-8374-ceb4086899a4",
   "metadata": {},
   "source": [
    "|instances|functions|\n",
    "|:-:|:-:|\n",
    "|imag|conjugate|\n",
    "|real||"
   ]
  },
  {
   "cell_type": "code",
   "execution_count": 103,
   "id": "00aab422-1206-4aea-b37b-9460515fb406",
   "metadata": {},
   "outputs": [
    {
     "data": {
      "text/plain": [
       "1.0"
      ]
     },
     "execution_count": 103,
     "metadata": {},
     "output_type": "execute_result"
    }
   ],
   "source": [
    "num_7.real"
   ]
  },
  {
   "cell_type": "code",
   "execution_count": 104,
   "id": "ba5078be-c819-44ce-9405-aa8a7c424660",
   "metadata": {},
   "outputs": [
    {
     "data": {
      "text/plain": [
       "2.0"
      ]
     },
     "execution_count": 104,
     "metadata": {},
     "output_type": "execute_result"
    }
   ],
   "source": [
    "num_7.imag"
   ]
  },
  {
   "cell_type": "markdown",
   "id": "4a0a5944-21b0-4240-8f30-14ffc37568a6",
   "metadata": {},
   "source": [
    "We can use the method ```conjugate``` to calculate the complex conjugate of the complex instance ```num_7```."
   ]
  },
  {
   "cell_type": "code",
   "execution_count": 105,
   "id": "f5ab45bb-ca86-4971-a6c3-dfbafe9acb22",
   "metadata": {},
   "outputs": [
    {
     "data": {
      "text/plain": [
       "(1-2j)"
      ]
     },
     "execution_count": 105,
     "metadata": {},
     "output_type": "execute_result"
    }
   ],
   "source": [
    "num_7.conjugate()"
   ]
  },
  {
   "cell_type": "markdown",
   "id": "b098d735-e12d-4951-873b-b6e9e47d7338",
   "metadata": {},
   "source": [
    "Let's return to using instances of the ```int``` class."
   ]
  },
  {
   "cell_type": "code",
   "execution_count": 106,
   "id": "2afb0264-e83e-4139-8c55-a1dab7b03ac4",
   "metadata": {},
   "outputs": [],
   "source": [
    "num_1 = 1"
   ]
  },
  {
   "cell_type": "code",
   "execution_count": 107,
   "id": "7d8da8aa-c35a-486c-844d-a03eb035d4c4",
   "metadata": {},
   "outputs": [],
   "source": [
    "num_2 = 2"
   ]
  },
  {
   "cell_type": "markdown",
   "id": "a1cdfe95-5f74-450c-b003-26377367ac67",
   "metadata": {},
   "source": [
    "The ```int``` class is setup to perform numeric operations with the following operators, +, -, *, **, /, //, %, ==, !=, <, <=, >, >=, +=, -=, *=, **=, /=, //=, %=."
   ]
  },
  {
   "cell_type": "markdown",
   "id": "95de4705-6353-4d6b-9386-49536afe42d9",
   "metadata": {},
   "source": [
    "Let's have a look at the ```+``` operator in more detail."
   ]
  },
  {
   "cell_type": "code",
   "execution_count": 108,
   "id": "6dff2d78-b8b6-476e-9faf-b802c6066520",
   "metadata": {},
   "outputs": [
    {
     "data": {
      "text/plain": [
       "3"
      ]
     },
     "execution_count": 108,
     "metadata": {},
     "output_type": "execute_result"
    }
   ],
   "source": [
    "num_1 + num_2"
   ]
  },
  {
   "cell_type": "markdown",
   "id": "b9510bda-8cc5-4db5-8b9e-ab1b8cab23b2",
   "metadata": {},
   "source": [
    "Under the hood the operator actually uses a method, the method is known as a datamodel method or a double underscore (dunder) method as it begins and ends with a double underscore."
   ]
  },
  {
   "cell_type": "code",
   "execution_count": 109,
   "id": "3d0fd5c9-a34b-4982-b558-3c277e1271ec",
   "metadata": {},
   "outputs": [
    {
     "data": {
      "text/plain": [
       "3"
      ]
     },
     "execution_count": 109,
     "metadata": {},
     "output_type": "execute_result"
    }
   ],
   "source": [
    "num_1.__add__(num_2)"
   ]
  },
  {
   "cell_type": "markdown",
   "id": "a5580cf7-c192-438f-a0d3-f16d3ed588c4",
   "metadata": {},
   "source": [
    "Methods can also be called directly from a class and applied to an instance:"
   ]
  },
  {
   "cell_type": "code",
   "execution_count": 110,
   "id": "a3777ff7-c7a9-4b5d-b7d4-374b1db38e42",
   "metadata": {},
   "outputs": [
    {
     "data": {
      "text/plain": [
       "3"
      ]
     },
     "execution_count": 110,
     "metadata": {},
     "output_type": "execute_result"
    }
   ],
   "source": [
    "int.__add__(num_1, num_2)"
   ]
  },
  {
   "cell_type": "markdown",
   "id": "d4771b56-49e3-4768-b045-05e72d137d45",
   "metadata": {},
   "source": [
    "Let's conceptualize the syntax in the above three lines as:"
   ]
  },
  {
   "cell_type": "code",
   "execution_count": null,
   "id": "21768a34-c8fd-4727-b8a1-9bc4d39de08a",
   "metadata": {},
   "outputs": [],
   "source": [
    "self + other"
   ]
  },
  {
   "cell_type": "code",
   "execution_count": null,
   "id": "cd61bb7e-1d03-415f-822c-0f40025f703b",
   "metadata": {},
   "outputs": [],
   "source": [
    "self.__add__(other)"
   ]
  },
  {
   "cell_type": "code",
   "execution_count": null,
   "id": "a80ce8dc-17c4-4f5d-9c87-d33bd8b53da9",
   "metadata": {},
   "outputs": [],
   "source": [
    "class.__add__(self, other)"
   ]
  },
  {
   "cell_type": "markdown",
   "id": "0ad36c3d-06ad-4b82-a0ba-afa925396314",
   "metadata": {},
   "source": [
    "Now let's look at the ```conjugate``` method. This can be called from an instance or from the class with an instance provided in parenthesis."
   ]
  },
  {
   "cell_type": "code",
   "execution_count": 111,
   "id": "50d1e632-9314-434c-ade5-0bdb8c58608f",
   "metadata": {},
   "outputs": [
    {
     "data": {
      "text/plain": [
       "1"
      ]
     },
     "execution_count": 111,
     "metadata": {},
     "output_type": "execute_result"
    }
   ],
   "source": [
    "num_1.conjugate()"
   ]
  },
  {
   "cell_type": "code",
   "execution_count": 112,
   "id": "853b0a37-bbb5-49d8-b195-8b23c6cadd94",
   "metadata": {},
   "outputs": [
    {
     "data": {
      "text/plain": [
       "1"
      ]
     },
     "execution_count": 112,
     "metadata": {},
     "output_type": "execute_result"
    }
   ],
   "source": [
    "int.conjugate(num_1)"
   ]
  },
  {
   "cell_type": "markdown",
   "id": "2351d338-8010-43cf-98b4-bf88381964ef",
   "metadata": {},
   "source": [
    "The two following lines are equivalent. In the top case, the method is called from the class and the instance is supplied in parenthesis."
   ]
  },
  {
   "cell_type": "code",
   "execution_count": null,
   "id": "c00835f3-46f5-4f47-a389-f01dbf47874f",
   "metadata": {},
   "outputs": [],
   "source": [
    "class.method(self)"
   ]
  },
  {
   "cell_type": "markdown",
   "id": "fb0b47c7-4f0e-46bb-aae8-d0c912692a0a",
   "metadata": {},
   "source": [
    "In the bottom case, the method is called from the instance. Therefore the instance is implied."
   ]
  },
  {
   "cell_type": "code",
   "execution_count": null,
   "id": "0f043597-e30b-4c52-956a-0d818ec85294",
   "metadata": {},
   "outputs": [],
   "source": [
    "self.method()"
   ]
  },
  {
   "cell_type": "markdown",
   "id": "135ab7d3-3d5f-4706-9f7b-1b6c72de570a",
   "metadata": {},
   "source": [
    "When creating a class, the word self is used as a placeholder to referring to an arbitrary instance of the class yet to be created. When we initialize the class."
   ]
  },
  {
   "cell_type": "code",
   "execution_count": 113,
   "id": "c966a85f-4b25-4f3c-8b64-0f7abe31ad1a",
   "metadata": {},
   "outputs": [
    {
     "data": {
      "text/plain": [
       "\u001b[1;31mInit signature:\u001b[0m  \u001b[0mint\u001b[0m\u001b[1;33m(\u001b[0m\u001b[0mself\u001b[0m\u001b[1;33m,\u001b[0m \u001b[1;33m/\u001b[0m\u001b[1;33m,\u001b[0m \u001b[1;33m*\u001b[0m\u001b[0margs\u001b[0m\u001b[1;33m,\u001b[0m \u001b[1;33m**\u001b[0m\u001b[0mkwargs\u001b[0m\u001b[1;33m)\u001b[0m\u001b[1;33m\u001b[0m\u001b[1;33m\u001b[0m\u001b[0m\n",
       "\u001b[1;31mDocstring:\u001b[0m     \n",
       "int([x]) -> integer\n",
       "int(x, base=10) -> integer\n",
       "\n",
       "Convert a number or string to an integer, or return 0 if no arguments\n",
       "are given.  If x is a number, return x.__int__().  For floating point\n",
       "numbers, this truncates towards zero.\n",
       "\n",
       "If x is not a number or if base is given, then x must be a string,\n",
       "bytes, or bytearray instance representing an integer literal in the\n",
       "given base.  The literal can be preceded by '+' or '-' and be surrounded\n",
       "by whitespace.  The base defaults to 10.  Valid bases are 0 and 2-36.\n",
       "Base 0 means to interpret the base from the string as an integer literal.\n",
       ">>> int('0b100', base=0)\n",
       "4\n",
       "\u001b[1;31mType:\u001b[0m           type\n",
       "\u001b[1;31mSubclasses:\u001b[0m     bool, IntEnum, IntFlag, _NamedIntConstant, Handle\n"
      ]
     },
     "metadata": {},
     "output_type": "display_data"
    }
   ],
   "source": [
    "? int"
   ]
  },
  {
   "cell_type": "code",
   "execution_count": 114,
   "id": "74b07c83-e883-4cd4-8ef9-c0d75d4c124e",
   "metadata": {},
   "outputs": [],
   "source": [
    "num_1 = int(1)"
   ]
  },
  {
   "cell_type": "markdown",
   "id": "37447306-eb9d-48b1-9ec4-f186bac59b2f",
   "metadata": {},
   "source": [
    "As part of the initialization the object name in this case ```num_1``` replaces the placeholder ```self```."
   ]
  },
  {
   "cell_type": "markdown",
   "id": "0a839d0c-7b75-4f57-afd7-5319f7f8e7f2",
   "metadata": {},
   "source": [
    "Behind the scenes during initialization the ```__init__``` datamodel (or dunder) method is called directly from the class. We do not call this method and instead instantiate the class using the procedure above however it becomes important when creating custom classes."
   ]
  },
  {
   "cell_type": "code",
   "execution_count": 115,
   "id": "888fc010-0ca6-40a9-b0ee-43e901f09515",
   "metadata": {},
   "outputs": [
    {
     "data": {
      "text/plain": [
       "\u001b[1;31mSignature:\u001b[0m       \u001b[0mint\u001b[0m\u001b[1;33m.\u001b[0m\u001b[0m__init__\u001b[0m\u001b[1;33m(\u001b[0m\u001b[0mself\u001b[0m\u001b[1;33m,\u001b[0m \u001b[1;33m/\u001b[0m\u001b[1;33m,\u001b[0m \u001b[1;33m*\u001b[0m\u001b[0margs\u001b[0m\u001b[1;33m,\u001b[0m \u001b[1;33m**\u001b[0m\u001b[0mkwargs\u001b[0m\u001b[1;33m)\u001b[0m\u001b[1;33m\u001b[0m\u001b[1;33m\u001b[0m\u001b[0m\n",
       "\u001b[1;31mCall signature:\u001b[0m  \u001b[0mint\u001b[0m\u001b[1;33m.\u001b[0m\u001b[0m__init__\u001b[0m\u001b[1;33m(\u001b[0m\u001b[1;33m*\u001b[0m\u001b[0margs\u001b[0m\u001b[1;33m,\u001b[0m \u001b[1;33m**\u001b[0m\u001b[0mkwargs\u001b[0m\u001b[1;33m)\u001b[0m\u001b[1;33m\u001b[0m\u001b[1;33m\u001b[0m\u001b[0m\n",
       "\u001b[1;31mType:\u001b[0m           wrapper_descriptor\n",
       "\u001b[1;31mString form:\u001b[0m    <slot wrapper '__init__' of 'object' objects>\n",
       "\u001b[1;31mNamespace:\u001b[0m      Python builtin\n",
       "\u001b[1;31mDocstring:\u001b[0m      Initialize self.  See help(type(self)) for accurate signature.\n"
      ]
     },
     "metadata": {},
     "output_type": "display_data"
    }
   ],
   "source": [
    "? int.__init__"
   ]
  },
  {
   "cell_type": "markdown",
   "id": "22c60010-489e-4aeb-9295-b9bc11db7c9a",
   "metadata": {},
   "source": [
    "## the object class"
   ]
  },
  {
   "cell_type": "markdown",
   "id": "db437c52-e1ca-410a-bf45-edf34a2cf68f",
   "metadata": {},
   "source": [
    "Everything in object orientated programming is an object. In other words the object class is the basic blueprint of all other classes. "
   ]
  },
  {
   "cell_type": "code",
   "execution_count": 116,
   "id": "8ce6bc23-706a-4bb1-b255-6164f39c1897",
   "metadata": {},
   "outputs": [
    {
     "data": {
      "text/plain": [
       "\u001b[1;31mInit signature:\u001b[0m  \u001b[0mobject\u001b[0m\u001b[1;33m(\u001b[0m\u001b[1;33m)\u001b[0m\u001b[1;33m\u001b[0m\u001b[1;33m\u001b[0m\u001b[0m\n",
       "\u001b[1;31mDocstring:\u001b[0m     \n",
       "The base class of the class hierarchy.\n",
       "\n",
       "When called, it accepts no arguments and returns a new featureless\n",
       "instance that has no instance attributes and cannot be given any.\n",
       "\u001b[1;31mType:\u001b[0m           type\n",
       "\u001b[1;31mSubclasses:\u001b[0m     type, weakref, weakcallableproxy, weakproxy, int, bytearray, bytes, list, NoneType, NotImplementedType, ...\n"
      ]
     },
     "metadata": {},
     "output_type": "display_data"
    }
   ],
   "source": [
    "? object"
   ]
  },
  {
   "cell_type": "markdown",
   "id": "dd0b7289-9a9c-46d9-b76e-eec1791666f3",
   "metadata": {},
   "source": [
    "Let's create two instances of the object class called ```obj_1``` and ```obj_2``` respectively."
   ]
  },
  {
   "cell_type": "code",
   "execution_count": 117,
   "id": "77833a65-44c2-4fe3-9e13-f734d4b56a20",
   "metadata": {},
   "outputs": [],
   "source": [
    "obj_1 = object()"
   ]
  },
  {
   "cell_type": "code",
   "execution_count": 118,
   "id": "220bcfd4-d56b-4f63-9f09-2641e68e06fb",
   "metadata": {},
   "outputs": [],
   "source": [
    "obj_2 = object()"
   ]
  },
  {
   "cell_type": "markdown",
   "id": "c369c342-5578-4e8a-9f65-a2292494051a",
   "metadata": {},
   "source": [
    "Notice that we can use the function ```dir``` an abbreviation for directory listings to view all the attributes of an instance of the object class."
   ]
  },
  {
   "cell_type": "code",
   "execution_count": 119,
   "id": "3bf9497e-a9d8-4d25-9885-492765f547d3",
   "metadata": {},
   "outputs": [
    {
     "data": {
      "text/plain": [
       "['__class__',\n",
       " '__delattr__',\n",
       " '__dir__',\n",
       " '__doc__',\n",
       " '__eq__',\n",
       " '__format__',\n",
       " '__ge__',\n",
       " '__getattribute__',\n",
       " '__gt__',\n",
       " '__hash__',\n",
       " '__init__',\n",
       " '__init_subclass__',\n",
       " '__le__',\n",
       " '__lt__',\n",
       " '__ne__',\n",
       " '__new__',\n",
       " '__reduce__',\n",
       " '__reduce_ex__',\n",
       " '__repr__',\n",
       " '__setattr__',\n",
       " '__sizeof__',\n",
       " '__str__',\n",
       " '__subclasshook__']"
      ]
     },
     "execution_count": 119,
     "metadata": {},
     "output_type": "execute_result"
    }
   ],
   "source": [
    "dir(obj_1)"
   ]
  },
  {
   "cell_type": "markdown",
   "id": "adf0030d-2f9f-4605-bb74-e89754901698",
   "metadata": {},
   "source": [
    "The reason we can use this is because the datamodel method ```__dir__``` has been defined. We can also use the functions ```repr``` and ```print``` because the datamodel methods ```__repr__``` and ```__str__``` have been defined."
   ]
  },
  {
   "cell_type": "code",
   "execution_count": 120,
   "id": "be450ce9-8769-4891-ab6c-3e4f5eb0e3a5",
   "metadata": {},
   "outputs": [
    {
     "data": {
      "text/plain": [
       "'<object object at 0x0000019D3F4D43F0>'"
      ]
     },
     "execution_count": 120,
     "metadata": {},
     "output_type": "execute_result"
    }
   ],
   "source": [
    "repr(obj_1)"
   ]
  },
  {
   "cell_type": "code",
   "execution_count": 121,
   "id": "a2442ccd-3469-49b1-9f21-ae5cf5f79687",
   "metadata": {},
   "outputs": [
    {
     "name": "stdout",
     "output_type": "stream",
     "text": [
      "<object object at 0x0000019D3F4D4540>\n"
     ]
    }
   ],
   "source": [
    "print(obj_2)"
   ]
  },
  {
   "cell_type": "markdown",
   "id": "1218b55e-eadf-4be9-bd8c-83eff436f850",
   "metadata": {},
   "source": [
    "We can also check whether ```obj_1``` and ```obj_2``` are equal as the datamodel method ```__eq__``` is defined."
   ]
  },
  {
   "cell_type": "code",
   "execution_count": 122,
   "id": "24c72ae6-61f4-41ae-a6b3-627b6dbfe624",
   "metadata": {},
   "outputs": [
    {
     "data": {
      "text/plain": [
       "False"
      ]
     },
     "execution_count": 122,
     "metadata": {},
     "output_type": "execute_result"
    }
   ],
   "source": [
    "obj_1 == obj_2"
   ]
  },
  {
   "cell_type": "code",
   "execution_count": 123,
   "id": "680cf980-eb1f-4c80-8124-039304f59633",
   "metadata": {},
   "outputs": [
    {
     "data": {
      "text/plain": [
       "True"
      ]
     },
     "execution_count": 123,
     "metadata": {},
     "output_type": "execute_result"
    }
   ],
   "source": [
    "obj_1 == obj_1"
   ]
  },
  {
   "cell_type": "markdown",
   "id": "2b26444d-f3d1-435a-862c-6b4a4762a698",
   "metadata": {},
   "source": [
    "Note however that we cannot perform addition because there has been no definition for the datamodel method ```__add__```."
   ]
  },
  {
   "cell_type": "code",
   "execution_count": 124,
   "id": "b371d13e-595a-475a-95c9-261eed78d37f",
   "metadata": {},
   "outputs": [
    {
     "ename": "TypeError",
     "evalue": "unsupported operand type(s) for +: 'object' and 'object'",
     "output_type": "error",
     "traceback": [
      "\u001b[1;31m---------------------------------------------------------------------------\u001b[0m",
      "\u001b[1;31mTypeError\u001b[0m                                 Traceback (most recent call last)",
      "\u001b[1;32m<ipython-input-124-e72bbf020931>\u001b[0m in \u001b[0;36m<module>\u001b[1;34m\u001b[0m\n\u001b[1;32m----> 1\u001b[1;33m \u001b[0mobj_1\u001b[0m \u001b[1;33m+\u001b[0m \u001b[0mobj_2\u001b[0m\u001b[1;33m\u001b[0m\u001b[1;33m\u001b[0m\u001b[0m\n\u001b[0m",
      "\u001b[1;31mTypeError\u001b[0m: unsupported operand type(s) for +: 'object' and 'object'"
     ]
    }
   ],
   "source": [
    "obj_1 + obj_2"
   ]
  },
  {
   "cell_type": "code",
   "execution_count": 125,
   "id": "7c2755c4-dd73-41df-a57d-212802132dc9",
   "metadata": {},
   "outputs": [
    {
     "ename": "AttributeError",
     "evalue": "'object' object has no attribute '__add__'",
     "output_type": "error",
     "traceback": [
      "\u001b[1;31m---------------------------------------------------------------------------\u001b[0m",
      "\u001b[1;31mAttributeError\u001b[0m                            Traceback (most recent call last)",
      "\u001b[1;32m<ipython-input-125-852fde4d200e>\u001b[0m in \u001b[0;36m<module>\u001b[1;34m\u001b[0m\n\u001b[1;32m----> 1\u001b[1;33m \u001b[0mobj_1\u001b[0m\u001b[1;33m.\u001b[0m\u001b[0m__add__\u001b[0m\u001b[1;33m(\u001b[0m\u001b[0mobj_2\u001b[0m\u001b[1;33m)\u001b[0m\u001b[1;33m\u001b[0m\u001b[1;33m\u001b[0m\u001b[0m\n\u001b[0m",
      "\u001b[1;31mAttributeError\u001b[0m: 'object' object has no attribute '__add__'"
     ]
    }
   ],
   "source": [
    "obj_1.__add__(obj_2)"
   ]
  },
  {
   "cell_type": "markdown",
   "id": "36dc2bf2-d4c6-4c68-8221-1eae1d3b537c",
   "metadata": {},
   "source": [
    "## creating a custom class"
   ]
  },
  {
   "cell_type": "markdown",
   "id": "40a31c76-0d89-49e5-bb69-e5fcb4e03e9b",
   "metadata": {},
   "source": [
    "We can now look at defining our own class. \n",
    "\n",
    "To do so we use the keyword class. \n",
    "\n",
    "Then we provide a class name. The convention is to use CamelCase capitalization for user created classes with lower case class names being reserved for the inbuilt classes such as ```int``` and ```str```. This makes it easier to distinguish the former from the latter.\n",
    "\n",
    "Parenthesis is used to enclose the parent classes. In Python every class is a modified object class and if no parent class is defined, the parent class is assumed to be object. The colon is used to begin a code block.\n",
    "\n",
    "Each class will contain some functions which are defined in an identical manner as before. However as these functions belong to the class, they are indented by 1 level (4 spaces) and code belonging to the function is indented by 8 spaces (2 levels)."
   ]
  },
  {
   "cell_type": "code",
   "execution_count": 126,
   "id": "044e198b-b8cf-41e0-8e2c-7e23e45544ab",
   "metadata": {},
   "outputs": [],
   "source": [
    "class ClassName(object):\n",
    "    \"\"\"Test ClassName\"\"\"\n",
    "    \n",
    "    \n",
    "    def greeting():\n",
    "        \"\"\"Greeting 1\"\"\"\n",
    "        print(\"Hello\")\n",
    "        \n",
    "        \n",
    "    def greeting_2():\n",
    "        \"\"\"Greeting 2\"\"\"\n",
    "        print(\"Have a nice day\")\n",
    "\n"
   ]
  },
  {
   "cell_type": "markdown",
   "id": "9968dc3b-b6a2-4317-9f0d-0402d1d6a65f",
   "metadata": {},
   "source": [
    "Notice the CustomClass has no init signature."
   ]
  },
  {
   "cell_type": "code",
   "execution_count": 127,
   "id": "b95bb4af-ee59-4a0c-922b-ed5b6a21c49d",
   "metadata": {},
   "outputs": [
    {
     "data": {
      "text/plain": [
       "\u001b[1;31mInit signature:\u001b[0m  \u001b[0mClassName\u001b[0m\u001b[1;33m(\u001b[0m\u001b[1;33m)\u001b[0m\u001b[1;33m\u001b[0m\u001b[1;33m\u001b[0m\u001b[0m\n",
       "\u001b[1;31mDocstring:\u001b[0m      Test ClassName\n",
       "\u001b[1;31mType:\u001b[0m           type\n",
       "\u001b[1;31mSubclasses:\u001b[0m     \n"
      ]
     },
     "metadata": {},
     "output_type": "display_data"
    }
   ],
   "source": [
    "? ClassName"
   ]
  },
  {
   "cell_type": "markdown",
   "id": "4469ec83-06ae-42af-9435-009b9f088406",
   "metadata": {},
   "source": [
    "The ```__init__``` datamodel method can be defined. This will be carried out when we instantiate an instance of the class. Let's just copy the class and rename the function greeting to ```__init__```."
   ]
  },
  {
   "cell_type": "code",
   "execution_count": 128,
   "id": "804f26c7-06e9-4d9e-b24b-753324aac322",
   "metadata": {},
   "outputs": [],
   "source": [
    "class ClassName2(object):\n",
    "    \"\"\"Test ClassName\"\"\"\n",
    "    \n",
    "    \n",
    "    def __init__():\n",
    "        \"\"\"Greeting 1\"\"\"\n",
    "        print(\"Hello\")\n",
    "        \n",
    "        \n",
    "    def greeting_2():\n",
    "        \"\"\"Greeting 2\"\"\"\n",
    "        print(\"Have a nice day\")\n",
    "\n"
   ]
  },
  {
   "cell_type": "code",
   "execution_count": 129,
   "id": "2f629f1b-51dc-4c29-b1a7-f12540f1b613",
   "metadata": {},
   "outputs": [
    {
     "data": {
      "text/plain": [
       "\u001b[1;31mInit signature:\u001b[0m  \u001b[0mClassName2\u001b[0m\u001b[1;33m(\u001b[0m\u001b[1;33m)\u001b[0m\u001b[1;33m\u001b[0m\u001b[1;33m\u001b[0m\u001b[0m\n",
       "\u001b[1;31mDocstring:\u001b[0m      Test ClassName\n",
       "\u001b[1;31mInit docstring:\u001b[0m Greeting 1\n",
       "\u001b[1;31mType:\u001b[0m           type\n",
       "\u001b[1;31mSubclasses:\u001b[0m     \n"
      ]
     },
     "metadata": {},
     "output_type": "display_data"
    }
   ],
   "source": [
    "? ClassName2"
   ]
  },
  {
   "cell_type": "markdown",
   "id": "90fb297b-c5dc-441a-b54e-9d852d689e62",
   "metadata": {},
   "source": [
    "Now, let's instantiate an instance of each class ClassName and ClassName2. The instance ins_1 of ClassName initates and nothing is shown in the cell output but the instance ins_2 fails to instantiate and instead returns a TypeError. We are informed 1 positional input argument was provided but the ```__init__``` signature defiined takes 0 input arguments."
   ]
  },
  {
   "cell_type": "code",
   "execution_count": 130,
   "id": "e58801d4-99bd-4cfa-adc8-5354b4ec6a7e",
   "metadata": {},
   "outputs": [],
   "source": [
    "ins_1 = ClassName()"
   ]
  },
  {
   "cell_type": "code",
   "execution_count": 131,
   "id": "b8f650bf-7e0d-46d6-a9ee-86c91904bb53",
   "metadata": {},
   "outputs": [
    {
     "ename": "TypeError",
     "evalue": "__init__() takes 0 positional arguments but 1 was given",
     "output_type": "error",
     "traceback": [
      "\u001b[1;31m---------------------------------------------------------------------------\u001b[0m",
      "\u001b[1;31mTypeError\u001b[0m                                 Traceback (most recent call last)",
      "\u001b[1;32m<ipython-input-131-04d6ec52b3ff>\u001b[0m in \u001b[0;36m<module>\u001b[1;34m\u001b[0m\n\u001b[1;32m----> 1\u001b[1;33m \u001b[0mins_2\u001b[0m \u001b[1;33m=\u001b[0m \u001b[0mClassName2\u001b[0m\u001b[1;33m(\u001b[0m\u001b[1;33m)\u001b[0m\u001b[1;33m\u001b[0m\u001b[1;33m\u001b[0m\u001b[0m\n\u001b[0m",
      "\u001b[1;31mTypeError\u001b[0m: __init__() takes 0 positional arguments but 1 was given"
     ]
    }
   ],
   "source": [
    "ins_2 = ClassName2()"
   ]
  },
  {
   "cell_type": "markdown",
   "id": "d4747ba8-9e8a-4233-92fb-419678219633",
   "metadata": {},
   "source": [
    "This is because we have provided an instance name ```ins_2``` but failed to account for it in the definition of the ```__init__``` method. We can create a new version of this class with the 0th positional nput argument in each of the methods being ```self```."
   ]
  },
  {
   "cell_type": "code",
   "execution_count": 132,
   "id": "8ac17fcf-c037-4e2c-b379-7463a51aa016",
   "metadata": {},
   "outputs": [],
   "source": [
    "class ClassName3(object):\n",
    "    \"\"\"Test ClassName\"\"\"\n",
    "    \n",
    "    \n",
    "    def __init__(self):\n",
    "        \"\"\"Greeting 1\"\"\"\n",
    "        print(\"Hello\")\n",
    "        \n",
    "        \n",
    "    def greeting_2(self):\n",
    "        \"\"\"Greeting 2\"\"\"\n",
    "        print(\"Have a nice day\")\n",
    "\n",
    "\n",
    "        "
   ]
  },
  {
   "cell_type": "markdown",
   "id": "afd2363d-77f3-4403-be5d-33a245d73383",
   "metadata": {},
   "source": [
    "Now we can instantiate an instance from this new class and the code in the ```__init__``` datamodel method is carried out."
   ]
  },
  {
   "cell_type": "code",
   "execution_count": 133,
   "id": "bb7c91ff-3800-4940-8790-6be4d4de04c8",
   "metadata": {},
   "outputs": [
    {
     "name": "stdout",
     "output_type": "stream",
     "text": [
      "Hello\n"
     ]
    }
   ],
   "source": [
    "ins_3 = ClassName3()"
   ]
  },
  {
   "cell_type": "markdown",
   "id": "bc9acac0-e745-4e12-96bd-5993708d6ec6",
   "metadata": {},
   "source": [
    "We can also call our method ```greeting_2``` from the instance ```inst_3``` using the dot notation."
   ]
  },
  {
   "cell_type": "code",
   "execution_count": 134,
   "id": "b77b0953-7d34-47b7-ac7b-470611eac24a",
   "metadata": {},
   "outputs": [
    {
     "name": "stdout",
     "output_type": "stream",
     "text": [
      "Have a nice day\n"
     ]
    }
   ],
   "source": [
    "ins_3.greeting_2()"
   ]
  },
  {
   "cell_type": "markdown",
   "id": "b9f14c31-31c9-4f53-aed3-4036998db0c6",
   "metadata": {},
   "source": [
    "Attributes can be created by indexing into the instance name with a new object name and assigning it to a new value."
   ]
  },
  {
   "cell_type": "code",
   "execution_count": 135,
   "id": "3c29e616-f675-4681-a16a-28cbe1bc7f81",
   "metadata": {},
   "outputs": [],
   "source": [
    "ins_3.attribute = 1"
   ]
  },
  {
   "cell_type": "code",
   "execution_count": 136,
   "id": "eabe21b1-88ef-4bb6-b6b6-f258988bdf75",
   "metadata": {},
   "outputs": [
    {
     "data": {
      "text/plain": [
       "1"
      ]
     },
     "execution_count": 136,
     "metadata": {},
     "output_type": "execute_result"
    }
   ],
   "source": [
    "ins_3.attribute"
   ]
  },
  {
   "cell_type": "markdown",
   "id": "38265cbf-dc1a-4ad7-999b-f31b2c8f1ff2",
   "metadata": {},
   "source": [
    "In this case the attribute is unique to the instance and other instances of the same class will not have this attribute unless it is also manually assigned."
   ]
  },
  {
   "cell_type": "code",
   "execution_count": 137,
   "id": "2ae0fd38-2956-4f9b-abba-af3ccf9d190f",
   "metadata": {},
   "outputs": [
    {
     "name": "stdout",
     "output_type": "stream",
     "text": [
      "Hello\n"
     ]
    }
   ],
   "source": [
    "ins_3_b = ClassName3()"
   ]
  },
  {
   "cell_type": "code",
   "execution_count": 138,
   "id": "d1dc5b37-a96c-4408-a700-8d2a677b11ee",
   "metadata": {},
   "outputs": [
    {
     "ename": "AttributeError",
     "evalue": "'ClassName3' object has no attribute 'attribute'",
     "output_type": "error",
     "traceback": [
      "\u001b[1;31m---------------------------------------------------------------------------\u001b[0m",
      "\u001b[1;31mAttributeError\u001b[0m                            Traceback (most recent call last)",
      "\u001b[1;32m<ipython-input-138-f69f54665805>\u001b[0m in \u001b[0;36m<module>\u001b[1;34m\u001b[0m\n\u001b[1;32m----> 1\u001b[1;33m \u001b[0mins_3_b\u001b[0m\u001b[1;33m.\u001b[0m\u001b[0mattribute\u001b[0m\u001b[1;33m\u001b[0m\u001b[1;33m\u001b[0m\u001b[0m\n\u001b[0m",
      "\u001b[1;31mAttributeError\u001b[0m: 'ClassName3' object has no attribute 'attribute'"
     ]
    }
   ],
   "source": [
    "ins_3_b.attribute"
   ]
  },
  {
   "cell_type": "markdown",
   "id": "0c5aedfd-6b94-4082-bafc-e60dbb14d388",
   "metadata": {},
   "source": [
    "We can also create an attribute within a method by indexing into ```self``` when defining the class. We need the 0th positional input argument in the attribute to be ```self```, so we can select the instance ```self```."
   ]
  },
  {
   "cell_type": "code",
   "execution_count": 139,
   "id": "a4db5bfb-a7a0-45d1-b38f-184e4e8c53a2",
   "metadata": {},
   "outputs": [],
   "source": [
    "class ClassName4(object):\n",
    "    \"\"\"Test ClassName\"\"\"\n",
    "    \n",
    "    \n",
    "    def __init__(self):\n",
    "        \"\"\"Greeting 1\"\"\"\n",
    "        print(\"Hello\")\n",
    "        \n",
    "    \n",
    "    def create_attribute(self):\n",
    "        \"\"\"Create an Attribute\"\"\"\n",
    "        self.attribute = 1    \n",
    "        \n",
    "        \n",
    "    def greeting_2(self):\n",
    "        \"\"\"Greeting 2\"\"\"\n",
    "        print(\"Have a nice day\")\n",
    "\n",
    "\n",
    "        "
   ]
  },
  {
   "cell_type": "markdown",
   "id": "9165988e-bd93-407c-92c6-5e918b6664db",
   "metadata": {},
   "source": [
    "We can instantiate the class."
   ]
  },
  {
   "cell_type": "code",
   "execution_count": 140,
   "id": "b878f3e2-7e66-42f1-bb0f-246a44d2c31c",
   "metadata": {},
   "outputs": [
    {
     "name": "stdout",
     "output_type": "stream",
     "text": [
      "Hello\n"
     ]
    }
   ],
   "source": [
    "ins_4 = ClassName4()"
   ]
  },
  {
   "cell_type": "markdown",
   "id": "680324d4-bf1a-4256-84f8-89dfcf68a529",
   "metadata": {},
   "source": [
    "If we try and access the attribute, we get an AttributeError informing us that the attribute doesn't exist."
   ]
  },
  {
   "cell_type": "code",
   "execution_count": 141,
   "id": "2e23bb28-e6cf-4c6f-af76-05d91ef5b384",
   "metadata": {},
   "outputs": [
    {
     "ename": "AttributeError",
     "evalue": "'ClassName4' object has no attribute 'attribute'",
     "output_type": "error",
     "traceback": [
      "\u001b[1;31m---------------------------------------------------------------------------\u001b[0m",
      "\u001b[1;31mAttributeError\u001b[0m                            Traceback (most recent call last)",
      "\u001b[1;32m<ipython-input-141-68a483dffa26>\u001b[0m in \u001b[0;36m<module>\u001b[1;34m\u001b[0m\n\u001b[1;32m----> 1\u001b[1;33m \u001b[0mins_4\u001b[0m\u001b[1;33m.\u001b[0m\u001b[0mattribute\u001b[0m\u001b[1;33m\u001b[0m\u001b[1;33m\u001b[0m\u001b[0m\n\u001b[0m",
      "\u001b[1;31mAttributeError\u001b[0m: 'ClassName4' object has no attribute 'attribute'"
     ]
    }
   ],
   "source": [
    "ins_4.attribute"
   ]
  },
  {
   "cell_type": "markdown",
   "id": "3b4c024a-26ba-4b55-b93d-32508fd252a3",
   "metadata": {},
   "source": [
    "If we call our method ```create_attribute``` from the instance, this will create the attribute."
   ]
  },
  {
   "cell_type": "code",
   "execution_count": 142,
   "id": "59ad01aa-2447-40f8-ba0c-be87533c5090",
   "metadata": {},
   "outputs": [],
   "source": [
    "ins_4.create_attribute()"
   ]
  },
  {
   "cell_type": "markdown",
   "id": "2400c338-46f6-4a66-ac11-421185296df4",
   "metadata": {},
   "source": [
    "Now we can access it without issue."
   ]
  },
  {
   "cell_type": "code",
   "execution_count": 143,
   "id": "687e9a80-736e-4f89-8676-c964e0320747",
   "metadata": {},
   "outputs": [
    {
     "data": {
      "text/plain": [
       "1"
      ]
     },
     "execution_count": 143,
     "metadata": {},
     "output_type": "execute_result"
    }
   ],
   "source": [
    "ins_4.attribute"
   ]
  },
  {
   "cell_type": "markdown",
   "id": "3cc276fa-5650-416d-8132-6a164b3b65e4",
   "metadata": {},
   "source": [
    "The ```__init__``` method is called during initialization, it can be used to create attributes directly during initialization and to call other methods."
   ]
  },
  {
   "cell_type": "code",
   "execution_count": 144,
   "id": "0598576c-7eed-44df-8438-85cf135182d4",
   "metadata": {},
   "outputs": [],
   "source": [
    "class ClassName5(object):\n",
    "    \"\"\"Test ClassName\"\"\"\n",
    "    \n",
    "    \n",
    "    def __init__(self):\n",
    "        \"\"\"Greeting 1 and attribute creation\"\"\"\n",
    "        print(\"Hello\")\n",
    "        self.attribute_1 = 1\n",
    "        self.create_attribute()\n",
    "        \n",
    "    \n",
    "    def create_attribute(self):\n",
    "        \"\"\"Create an Attribute\"\"\"\n",
    "        self.attribute_2 = 2    \n",
    "        \n",
    "        \n",
    "    def greeting_2(self):\n",
    "        \"\"\"Greeting 2\"\"\"\n",
    "        print(\"Have a nice day\")\n",
    "\n",
    "\n",
    "        "
   ]
  },
  {
   "cell_type": "code",
   "execution_count": 145,
   "id": "579d8104-b58c-4b9f-9ba5-5ca9226d7637",
   "metadata": {},
   "outputs": [
    {
     "name": "stdout",
     "output_type": "stream",
     "text": [
      "Hello\n"
     ]
    }
   ],
   "source": [
    "ins_5 = ClassName5()"
   ]
  },
  {
   "cell_type": "markdown",
   "id": "d7717d94-bafd-460d-8ff3-6405ed860db1",
   "metadata": {},
   "source": [
    "These attribute created in the ```__init__``` can be accessed directly and the attribute created in the method ```create_attribute``` called during initialization can also be accessed directly."
   ]
  },
  {
   "cell_type": "code",
   "execution_count": 146,
   "id": "857f111b-b30c-4e62-90ac-d37e03201475",
   "metadata": {},
   "outputs": [
    {
     "data": {
      "text/plain": [
       "1"
      ]
     },
     "execution_count": 146,
     "metadata": {},
     "output_type": "execute_result"
    }
   ],
   "source": [
    "ins_5.attribute_1"
   ]
  },
  {
   "cell_type": "code",
   "execution_count": 147,
   "id": "7c827fca-e635-49b8-a4f3-d6a5a2ab1329",
   "metadata": {},
   "outputs": [
    {
     "data": {
      "text/plain": [
       "2"
      ]
     },
     "execution_count": 147,
     "metadata": {},
     "output_type": "execute_result"
    }
   ],
   "source": [
    "ins_5.attribute_2"
   ]
  },
  {
   "cell_type": "markdown",
   "id": "e9674b73-a09b-466c-8b25-76b6e47269b4",
   "metadata": {},
   "source": [
    "These attributes will be the same for any instance of the class."
   ]
  },
  {
   "cell_type": "code",
   "execution_count": 148,
   "id": "6ad8f1d1-2dc0-42ba-b24a-26397b5c0516",
   "metadata": {},
   "outputs": [
    {
     "name": "stdout",
     "output_type": "stream",
     "text": [
      "Hello\n"
     ]
    }
   ],
   "source": [
    "ins_5_b = ClassName5()"
   ]
  },
  {
   "cell_type": "code",
   "execution_count": 149,
   "id": "2ab008c3-fa36-43e6-aa4b-4e560e78e979",
   "metadata": {},
   "outputs": [
    {
     "data": {
      "text/plain": [
       "1"
      ]
     },
     "execution_count": 149,
     "metadata": {},
     "output_type": "execute_result"
    }
   ],
   "source": [
    "ins_5_b.attribute_1"
   ]
  },
  {
   "cell_type": "code",
   "execution_count": 150,
   "id": "9fd36c5e-1e93-4a02-a11b-9a5922f25b12",
   "metadata": {},
   "outputs": [
    {
     "data": {
      "text/plain": [
       "2"
      ]
     },
     "execution_count": 150,
     "metadata": {},
     "output_type": "execute_result"
    }
   ],
   "source": [
    "ins_5_b.attribute_2"
   ]
  },
  {
   "cell_type": "markdown",
   "id": "17f8cb33-ad2a-4b98-81ca-7621acf7e089",
   "metadata": {},
   "source": [
    "We can create instance specific attributes during initialization by requesting information from the user when they use the ```__init__``` datamodel method. \n",
    "\n",
    "Let's assume we are wanting to create a class of students, we can request the students name and students number using the ```student_name``` and ```student_phone_number``` positional input arguments. The docstring provides the format both of these pieces of information should be laid out when instantiating the class.\n",
    "\n",
    "We can then assign this information as attributes. The attributes can have any object name but it is common to use the same name as the positional input argument so the code is easier to follow."
   ]
  },
  {
   "cell_type": "code",
   "execution_count": 151,
   "id": "b6f55aa9-9398-4128-aa5e-3d03e7f8d97b",
   "metadata": {},
   "outputs": [],
   "source": [
    "class Student(object):\n",
    "    \"\"\"A class of students\"\"\"\n",
    "    \n",
    "    \n",
    "    def __init__(self, student_name, student_phone_number):\n",
    "        \"\"\"\n",
    "        student_first_name should be a str in the format: \"First Last\"\n",
    "        student_number should be a str in the format: \"+ww xxx yyy zzzz\"\n",
    "        \"\"\"\n",
    "        self.student_name = student_name\n",
    "        self.student_phone_number = student_phone_number\n",
    "       \n",
    "    \n",
    "    def get_student_name(self):\n",
    "        \"\"\"Returns the student name\"\"\"\n",
    "        return self.student_name\n",
    "        \n",
    "\n",
    "    def get_student_phone_number(self):\n",
    "        \"\"\"Returns the student phone number\"\"\"\n",
    "        return self.student_phone_number    \n",
    "    \n",
    "    "
   ]
  },
  {
   "cell_type": "markdown",
   "id": "a846362f-4cdd-400c-8273-ea6da8199fb6",
   "metadata": {},
   "source": [
    "Let's now look at our docstring."
   ]
  },
  {
   "cell_type": "code",
   "execution_count": 152,
   "id": "092fe7c8-b015-406c-a526-926886e1a1b6",
   "metadata": {},
   "outputs": [
    {
     "data": {
      "text/plain": [
       "\u001b[1;31mInit signature:\u001b[0m  \u001b[0mStudent\u001b[0m\u001b[1;33m(\u001b[0m\u001b[0mstudent_name\u001b[0m\u001b[1;33m,\u001b[0m \u001b[0mstudent_phone_number\u001b[0m\u001b[1;33m)\u001b[0m\u001b[1;33m\u001b[0m\u001b[1;33m\u001b[0m\u001b[0m\n",
       "\u001b[1;31mDocstring:\u001b[0m      A class of students\n",
       "\u001b[1;31mInit docstring:\u001b[0m\n",
       "student_first_name should be a str in the format: \"First Last\"\n",
       "student_number should be a str in the format: \"+ww xxx yyy zzzz\"\n",
       "\u001b[1;31mType:\u001b[0m           type\n",
       "\u001b[1;31mSubclasses:\u001b[0m     \n"
      ]
     },
     "metadata": {},
     "output_type": "display_data"
    }
   ],
   "source": [
    "? Student"
   ]
  },
  {
   "cell_type": "markdown",
   "id": "f56533ad-4241-499f-8263-7fb0b241ab8c",
   "metadata": {},
   "source": [
    "And initiate our student lucie."
   ]
  },
  {
   "cell_type": "code",
   "execution_count": 153,
   "id": "aa2db0c7-b843-4aaa-a34b-95ba1a225f78",
   "metadata": {},
   "outputs": [],
   "source": [
    "lucie = Student(\"Lucie McDonald\", \"+44 123 123 1234\")"
   ]
  },
  {
   "cell_type": "markdown",
   "id": "68b39801-9b9a-496d-a711-5b2a0a9a40b5",
   "metadata": {},
   "source": [
    "We can use the methods to get Lucies name and number."
   ]
  },
  {
   "cell_type": "code",
   "execution_count": 154,
   "id": "79261c8d-00f1-49ab-8654-0ad1ec301fe6",
   "metadata": {},
   "outputs": [
    {
     "data": {
      "text/plain": [
       "'Lucie McDonald'"
      ]
     },
     "execution_count": 154,
     "metadata": {},
     "output_type": "execute_result"
    }
   ],
   "source": [
    "lucie.get_student_name()"
   ]
  },
  {
   "cell_type": "code",
   "execution_count": 155,
   "id": "71342894-2162-4a71-9366-4c9d3396cffd",
   "metadata": {},
   "outputs": [
    {
     "data": {
      "text/plain": [
       "'+44 123 123 1234'"
      ]
     },
     "execution_count": 155,
     "metadata": {},
     "output_type": "execute_result"
    }
   ],
   "source": [
    "lucie.get_student_phone_number()"
   ]
  },
  {
   "cell_type": "markdown",
   "id": "48302627-01a4-449f-944b-86918ee36241",
   "metadata": {},
   "source": [
    "In the above code we have not provided any restrictions on the data that can be input for each positional input argument when using the ```__init__``` method and the attributes can be accessed directly. "
   ]
  },
  {
   "cell_type": "code",
   "execution_count": 156,
   "id": "3e1a5b22-4565-4181-b01c-0e257de33dd3",
   "metadata": {},
   "outputs": [
    {
     "data": {
      "text/plain": [
       "'Lucie McDonald'"
      ]
     },
     "execution_count": 156,
     "metadata": {},
     "output_type": "execute_result"
    }
   ],
   "source": [
    "lucie.student_name"
   ]
  },
  {
   "cell_type": "code",
   "execution_count": 157,
   "id": "56ac800e-f07f-4a93-a8e1-cf392efbfc3f",
   "metadata": {},
   "outputs": [
    {
     "data": {
      "text/plain": [
       "'+44 123 123 1234'"
      ]
     },
     "execution_count": 157,
     "metadata": {},
     "output_type": "execute_result"
    }
   ],
   "source": [
    "lucie.student_phone_number"
   ]
  },
  {
   "cell_type": "markdown",
   "id": "56dc2562-381d-4b00-8e34-1d0b2dd75b35",
   "metadata": {},
   "source": [
    "It is common to assert data to be within a specific format when using the ```__init__``` signature and create hidden attributes. attributes beginning with an underscore are hidden."
   ]
  },
  {
   "cell_type": "code",
   "execution_count": 158,
   "id": "274c7dbf-3756-4b16-8607-bc8919f79928",
   "metadata": {},
   "outputs": [],
   "source": [
    "class Student(object):\n",
    "    \"\"\"A class of students\"\"\"\n",
    "    \n",
    "    \n",
    "    def __init__(self, student_name, student_phone_number):\n",
    "        \"\"\"\n",
    "        student_first_name should be a str in the format: \"First Last\"\n",
    "        student_number should be a str in the format: \"+ww xxx yyy zzzz\"\n",
    "        \"\"\"\n",
    "        assert type(student_name)==str\n",
    "        assert type(student_phone_number)==str\n",
    "        self._student_name = student_name\n",
    "        self._student_phone_number = student_phone_number\n",
    "       \n",
    "    \n",
    "    def get_student_name(self):\n",
    "        \"\"\"Returns the student name\"\"\"\n",
    "        return self._student_name\n",
    "        \n",
    "\n",
    "    def get_student_phone_number(self):\n",
    "        \"\"\"Returns the student phone number\"\"\"\n",
    "        return self._student_phone_number    \n",
    "    \n",
    "\n",
    "    def set_student_phone_number(self , student_phone_number):\n",
    "        \"\"\"\n",
    "        student_number should be a str in the format: \"+ww xxx yyy zzzz\"\n",
    "        \"\"\"\n",
    "        assert type(student_phone_number)==str\n",
    "        self._student_phone_number = student_phone_number\n",
    "        \n",
    "        "
   ]
  },
  {
   "cell_type": "markdown",
   "id": "5c27d287-0215-4bd6-9eae-aa26c0229801",
   "metadata": {},
   "source": [
    "Now when the number is given in the wrong format, e.g. ```int``` instead of ```str```, an AssertionError will be flagged up."
   ]
  },
  {
   "cell_type": "code",
   "execution_count": 159,
   "id": "1b416955-cac5-4115-8a14-658b0186a2ad",
   "metadata": {},
   "outputs": [
    {
     "ename": "AssertionError",
     "evalue": "",
     "output_type": "error",
     "traceback": [
      "\u001b[1;31m---------------------------------------------------------------------------\u001b[0m",
      "\u001b[1;31mAssertionError\u001b[0m                            Traceback (most recent call last)",
      "\u001b[1;32m<ipython-input-159-ca7db4d8d9d3>\u001b[0m in \u001b[0;36m<module>\u001b[1;34m\u001b[0m\n\u001b[1;32m----> 1\u001b[1;33m \u001b[0mlucie\u001b[0m \u001b[1;33m=\u001b[0m \u001b[0mStudent\u001b[0m\u001b[1;33m(\u001b[0m\u001b[1;34m\"Lucie McDonald\"\u001b[0m\u001b[1;33m,\u001b[0m \u001b[1;36m121231234\u001b[0m\u001b[1;33m)\u001b[0m\u001b[1;33m\u001b[0m\u001b[1;33m\u001b[0m\u001b[0m\n\u001b[0m",
      "\u001b[1;32m<ipython-input-158-ed10c2367667>\u001b[0m in \u001b[0;36m__init__\u001b[1;34m(self, student_name, student_phone_number)\u001b[0m\n\u001b[0;32m      9\u001b[0m         \"\"\"\n\u001b[0;32m     10\u001b[0m         \u001b[1;32massert\u001b[0m \u001b[0mtype\u001b[0m\u001b[1;33m(\u001b[0m\u001b[0mstudent_name\u001b[0m\u001b[1;33m)\u001b[0m\u001b[1;33m==\u001b[0m\u001b[0mstr\u001b[0m\u001b[1;33m\u001b[0m\u001b[1;33m\u001b[0m\u001b[0m\n\u001b[1;32m---> 11\u001b[1;33m         \u001b[1;32massert\u001b[0m \u001b[0mtype\u001b[0m\u001b[1;33m(\u001b[0m\u001b[0mstudent_phone_number\u001b[0m\u001b[1;33m)\u001b[0m\u001b[1;33m==\u001b[0m\u001b[0mstr\u001b[0m\u001b[1;33m\u001b[0m\u001b[1;33m\u001b[0m\u001b[0m\n\u001b[0m\u001b[0;32m     12\u001b[0m         \u001b[0mself\u001b[0m\u001b[1;33m.\u001b[0m\u001b[0m_student_name\u001b[0m \u001b[1;33m=\u001b[0m \u001b[0mstudent_name\u001b[0m\u001b[1;33m\u001b[0m\u001b[1;33m\u001b[0m\u001b[0m\n\u001b[0;32m     13\u001b[0m         \u001b[0mself\u001b[0m\u001b[1;33m.\u001b[0m\u001b[0m_student_phone_number\u001b[0m \u001b[1;33m=\u001b[0m \u001b[0mstudent_phone_number\u001b[0m\u001b[1;33m\u001b[0m\u001b[1;33m\u001b[0m\u001b[0m\n",
      "\u001b[1;31mAssertionError\u001b[0m: "
     ]
    }
   ],
   "source": [
    "lucie = Student(\"Lucie McDonald\", 121231234)"
   ]
  },
  {
   "cell_type": "code",
   "execution_count": 160,
   "id": "69a57cd5-9199-49b9-94ab-20e2d46b0665",
   "metadata": {},
   "outputs": [],
   "source": [
    "lucie = Student(\"Lucie McDonald\", \"+44 123 123 1234\")"
   ]
  },
  {
   "cell_type": "markdown",
   "id": "d00b0964-eae2-4ed3-a8a0-003231148505",
   "metadata": {},
   "source": [
    "The function ```repr``` displays a formal representation of the object in a ```str``` format and ```print``` displays informat representation of the object in ```str``` format. Often both are set to be the same but ```repr``` is sometimes used to give additional information.\n",
    "\n",
    "Notice that when we attempt to print lucie we get the following memory reference. We can change how this displays by defining out own ```__str__``` datamodel method. "
   ]
  },
  {
   "cell_type": "code",
   "execution_count": 161,
   "id": "5a5d2e5d-205a-4738-9882-9c3a2a9088e6",
   "metadata": {},
   "outputs": [
    {
     "name": "stdout",
     "output_type": "stream",
     "text": [
      "<__main__.Student object at 0x0000019D3F754CA0>\n"
     ]
    }
   ],
   "source": [
    "print(lucie)"
   ]
  },
  {
   "cell_type": "code",
   "execution_count": 162,
   "id": "ee46ef83-3ff9-4eab-bc88-98fcabcea091",
   "metadata": {},
   "outputs": [
    {
     "data": {
      "text/plain": [
       "'<__main__.Student object at 0x0000019D3F754CA0>'"
      ]
     },
     "execution_count": 162,
     "metadata": {},
     "output_type": "execute_result"
    }
   ],
   "source": [
    "repr(lucie)"
   ]
  },
  {
   "cell_type": "code",
   "execution_count": 163,
   "id": "923d84a3-0a7d-46ec-bc6f-7101326b6bd5",
   "metadata": {},
   "outputs": [],
   "source": [
    "class Student(object):\n",
    "    \"\"\"A class of students\"\"\"\n",
    "    \n",
    "    \n",
    "    def __init__(self, student_name, student_phone_number):\n",
    "        \"\"\"\n",
    "        student_first_name should be a str in the format: \"First Last\"\n",
    "        student_number should be a str in the format: \"+ww xxx yyy zzzz\"\n",
    "        \"\"\"\n",
    "        assert type(student_name)==str\n",
    "        assert type(student_phone_number)==str\n",
    "        self._student_name = student_name\n",
    "        self._student_phone_number = student_phone_number\n",
    "       \n",
    "    \n",
    "    def get_student_name(self):\n",
    "        \"\"\"Returns the student name\"\"\"\n",
    "        return self._student_name\n",
    "        \n",
    "\n",
    "    def get_student_phone_number(self):\n",
    "        \"\"\"Returns the student phone number\"\"\"\n",
    "        return self._student_phone_number    \n",
    "    \n",
    "\n",
    "    def set_student_phone_number(self , student_phone_number):\n",
    "        \"\"\"\n",
    "        student_number should be a str in the format: \"+ww xxx yyy zzzz\"\n",
    "        \"\"\"\n",
    "        assert type(student_phone_number)==str\n",
    "        self._student_phone_number = student_phone_number\n",
    "    \n",
    "    \n",
    "    def __str__(self):\n",
    "        string = f\"Student Name: {self._student_name} Student Phone Number: {self._student_phone_number}\"\n",
    "        return string\n",
    "   \n",
    "\n",
    "    def __repr__(self):\n",
    "        string = f\"Instance of Student class. Student Name: {self._student_name} Student Phone Number: {self._student_phone_number}\"\n",
    "        return string\n",
    "     "
   ]
  },
  {
   "cell_type": "code",
   "execution_count": 164,
   "id": "c58ba6b5-8f73-4c7c-9373-466698f8c560",
   "metadata": {},
   "outputs": [],
   "source": [
    "lucie = Student(\"Lucie McDonald\", \"+44 123 123 1234\")"
   ]
  },
  {
   "cell_type": "code",
   "execution_count": 165,
   "id": "ebb89174-b151-41a0-becc-4d20acc22642",
   "metadata": {},
   "outputs": [
    {
     "name": "stdout",
     "output_type": "stream",
     "text": [
      "Student Name: Lucie McDonald Student Phone Number: +44 123 123 1234\n"
     ]
    }
   ],
   "source": [
    "print(lucie)"
   ]
  },
  {
   "cell_type": "code",
   "execution_count": 166,
   "id": "84d8d4ef-57ba-4a70-a9d5-ee66b93efaf8",
   "metadata": {},
   "outputs": [
    {
     "data": {
      "text/plain": [
       "'Instance of Student class. Student Name: Lucie McDonald Student Phone Number: +44 123 123 1234'"
      ]
     },
     "execution_count": 166,
     "metadata": {},
     "output_type": "execute_result"
    }
   ],
   "source": [
    "repr(lucie)"
   ]
  }
 ],
 "metadata": {
  "kernelspec": {
   "display_name": "Python 3",
   "language": "python",
   "name": "python3"
  },
  "language_info": {
   "codemirror_mode": {
    "name": "ipython",
    "version": 3
   },
   "file_extension": ".py",
   "mimetype": "text/x-python",
   "name": "python",
   "nbconvert_exporter": "python",
   "pygments_lexer": "ipython3",
   "version": "3.8.5"
  }
 },
 "nbformat": 4,
 "nbformat_minor": 5
}
